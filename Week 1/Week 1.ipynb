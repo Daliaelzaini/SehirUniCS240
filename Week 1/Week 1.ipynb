{
 "cells": [
  {
   "cell_type": "markdown",
   "metadata": {
    "collapsed": true
   },
   "source": [
    "## WEEK 1 - INTRODUCTION GIT, IMPORT AND EXECUTE FILE IN SPYDER AND IPYTHON"
   ]
  },
  {
   "cell_type": "markdown",
   "metadata": {},
   "source": [
    "<div align=\"center\"> This is the source code of files, In this course all codes would be avaliable from this repository every week after third class of course thenyou can reach whenever you want.\n",
    "\n",
    "https://github.com/sahinsrhn/SehirUniCS240</div>"
   ]
  },
  {
   "cell_type": "markdown",
   "metadata": {},
   "source": [
    "<img src=\"githubLink.png\" />"
   ]
  },
  {
   "cell_type": "markdown",
   "metadata": {},
   "source": [
    "When open the repository you can;\n",
    "- create a copy of my repository on GitHub by pressing the fork button but you need a GitHub account.\n",
    "- clone repository under \"Clone or Download\". You don’t need a GitHub account\n",
    "- download the files in a Zip file under \"Clone or Download\". You don’t need a GitHub account"
   ]
  },
  {
   "cell_type": "markdown",
   "metadata": {},
   "source": [
    "<br>Course will be covored in Anaconda with IPython and Spyder. The reason is why Anaconda use in this exercises, It is easy to reach programs that use for data analysis rather than install them seperately."
   ]
  },
  {
   "cell_type": "markdown",
   "metadata": {},
   "source": [
    "<img src=\"anaconda.png\" />"
   ]
  },
  {
   "cell_type": "markdown",
   "metadata": {},
   "source": [
    "<b>Launch the Spyder. Then open test file that u download from repository and execute it in Spyder.</b>"
   ]
  },
  {
   "cell_type": "markdown",
   "metadata": {},
   "source": [
    "<img src=\"spyderOpen.png\" />"
   ]
  },
  {
   "cell_type": "markdown",
   "metadata": {},
   "source": [
    "<img src=\"spyderf5.png\" />"
   ]
  },
  {
   "cell_type": "code",
   "execution_count": null,
   "metadata": {
    "collapsed": true
   },
   "outputs": [],
   "source": []
  }
 ],
 "metadata": {
  "kernelspec": {
   "display_name": "Python 3",
   "language": "python",
   "name": "python3"
  },
  "language_info": {
   "codemirror_mode": {
    "name": "ipython",
    "version": 3
   },
   "file_extension": ".py",
   "mimetype": "text/x-python",
   "name": "python",
   "nbconvert_exporter": "python",
   "pygments_lexer": "ipython3",
   "version": "3.6.0"
  }
 },
 "nbformat": 4,
 "nbformat_minor": 0
}
