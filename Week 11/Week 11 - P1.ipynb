{
 "cells": [
  {
   "cell_type": "markdown",
   "metadata": {},
   "source": [
    "# Week 11 - P1\n"
   ]
  },
  {
   "cell_type": "code",
   "execution_count": 6,
   "metadata": {
    "collapsed": false
   },
   "outputs": [],
   "source": [
    "from __future__ import print_function, division\n",
    "\n",
    "%matplotlib inline\n",
    "\n",
    "import numpy as np\n",
    "\n",
    "import brfss\n",
    "import matplotlib\n",
    "import thinkstats2\n",
    "import thinkplot"
   ]
  },
  {
   "cell_type": "code",
   "execution_count": 4,
   "metadata": {
    "collapsed": false
   },
   "outputs": [
    {
     "name": "stdout",
     "output_type": "stream",
     "text": [
      "('--------------', [1, 4, 9, 16, 25], '--------------')\n",
      "('--------------', [4, 16], '--------------')\n",
      "[(1, 'a'), (2, 'b'), (3, 'c'), (4, 'd'), (5, 'e')]\n",
      "('--------------', {'a': 1, 'c': 3, 'b': 2, 'e': 5, 'd': 4}, '--------------')\n"
     ]
    }
   ],
   "source": [
    "a_list = [1,2,3,4,5]\n",
    "another_list = [\"a\",\"b\",\"c\",\"d\",\"e\"]\n",
    "\n",
    "a_power_list = [value ** 2 for value in a_list]\n",
    "print(\"--------------\",a_power_list,\"--------------\")\n",
    "filter_even_number = [value**2 for value in a_list if value % 2 == 0]\n",
    "print(\"--------------\",filter_even_number,\"--------------\")\n",
    "print(zip(a_list, another_list))\n",
    "a_dict = {key:value for value, key in zip(a_list, another_list)}\n",
    "print(\"--------------\",a_dict,\"--------------\")\n"
   ]
  },
  {
   "cell_type": "markdown",
   "metadata": {},
   "source": [
    "## Scatter plots\n",
    "\n",
    "I'll start with the data from the BRFSS again."
   ]
  },
  {
   "cell_type": "code",
   "execution_count": 7,
   "metadata": {
    "collapsed": false
   },
   "outputs": [],
   "source": [
    "df = brfss.ReadBrfss(nrows=None)"
   ]
  },
  {
   "cell_type": "markdown",
   "metadata": {},
   "source": [
    "The following function selects a random subset of a `DataFrame`."
   ]
  },
  {
   "cell_type": "code",
   "execution_count": 8,
   "metadata": {
    "collapsed": false
   },
   "outputs": [],
   "source": [
    "# https://docs.scipy.org/doc/numpy/reference/generated/numpy.random.choice.html\n",
    "def SampleRows(df, nrows, replace=False):\n",
    "    # replace = same row could be chosen more than one or not\n",
    "    indices = np.random.choice(df.index, nrows, replace=replace)\n",
    "    print(indices)\n",
    "    sample = df.loc[indices]\n",
    "    return sample"
   ]
  },
  {
   "cell_type": "markdown",
   "metadata": {},
   "source": [
    "I'll extract the height in cm and the weight in kg of the respondents in the sample."
   ]
  },
  {
   "cell_type": "code",
   "execution_count": 10,
   "metadata": {
    "collapsed": false
   },
   "outputs": [
    {
     "name": "stdout",
     "output_type": "stream",
     "text": [
      "[213611 107785 132721 ..., 111675 386477 324835]\n"
     ]
    },
    {
     "data": {
      "text/html": [
       "<div>\n",
       "<table border=\"1\" class=\"dataframe\">\n",
       "  <thead>\n",
       "    <tr style=\"text-align: right;\">\n",
       "      <th></th>\n",
       "      <th>age</th>\n",
       "      <th>sex</th>\n",
       "      <th>wtyrago</th>\n",
       "      <th>finalwt</th>\n",
       "      <th>wtkg2</th>\n",
       "      <th>htm3</th>\n",
       "    </tr>\n",
       "  </thead>\n",
       "  <tbody>\n",
       "    <tr>\n",
       "      <th>213611</th>\n",
       "      <td>67.0</td>\n",
       "      <td>1</td>\n",
       "      <td>72.727273</td>\n",
       "      <td>108.100522</td>\n",
       "      <td>72.73</td>\n",
       "      <td>168.0</td>\n",
       "    </tr>\n",
       "    <tr>\n",
       "      <th>107785</th>\n",
       "      <td>30.0</td>\n",
       "      <td>2</td>\n",
       "      <td>72.727273</td>\n",
       "      <td>335.632569</td>\n",
       "      <td>89.09</td>\n",
       "      <td>170.0</td>\n",
       "    </tr>\n",
       "    <tr>\n",
       "      <th>132721</th>\n",
       "      <td>95.0</td>\n",
       "      <td>2</td>\n",
       "      <td>NaN</td>\n",
       "      <td>215.626580</td>\n",
       "      <td>NaN</td>\n",
       "      <td>NaN</td>\n",
       "    </tr>\n",
       "    <tr>\n",
       "      <th>143966</th>\n",
       "      <td>34.0</td>\n",
       "      <td>2</td>\n",
       "      <td>88.181818</td>\n",
       "      <td>149.644700</td>\n",
       "      <td>88.18</td>\n",
       "      <td>165.0</td>\n",
       "    </tr>\n",
       "    <tr>\n",
       "      <th>117950</th>\n",
       "      <td>76.0</td>\n",
       "      <td>1</td>\n",
       "      <td>87.272727</td>\n",
       "      <td>337.141581</td>\n",
       "      <td>73.64</td>\n",
       "      <td>180.0</td>\n",
       "    </tr>\n",
       "    <tr>\n",
       "      <th>141654</th>\n",
       "      <td>47.0</td>\n",
       "      <td>2</td>\n",
       "      <td>86.363636</td>\n",
       "      <td>177.217172</td>\n",
       "      <td>86.36</td>\n",
       "      <td>155.0</td>\n",
       "    </tr>\n",
       "    <tr>\n",
       "      <th>20773</th>\n",
       "      <td>78.0</td>\n",
       "      <td>2</td>\n",
       "      <td>70.454545</td>\n",
       "      <td>183.294247</td>\n",
       "      <td>70.45</td>\n",
       "      <td>165.0</td>\n",
       "    </tr>\n",
       "    <tr>\n",
       "      <th>66271</th>\n",
       "      <td>58.0</td>\n",
       "      <td>1</td>\n",
       "      <td>98.636364</td>\n",
       "      <td>2003.041400</td>\n",
       "      <td>85.91</td>\n",
       "      <td>175.0</td>\n",
       "    </tr>\n",
       "    <tr>\n",
       "      <th>49004</th>\n",
       "      <td>85.0</td>\n",
       "      <td>2</td>\n",
       "      <td>59.090909</td>\n",
       "      <td>80.762855</td>\n",
       "      <td>59.09</td>\n",
       "      <td>163.0</td>\n",
       "    </tr>\n",
       "    <tr>\n",
       "      <th>338669</th>\n",
       "      <td>72.0</td>\n",
       "      <td>2</td>\n",
       "      <td>113.636364</td>\n",
       "      <td>661.767418</td>\n",
       "      <td>113.64</td>\n",
       "      <td>168.0</td>\n",
       "    </tr>\n",
       "    <tr>\n",
       "      <th>301101</th>\n",
       "      <td>45.0</td>\n",
       "      <td>1</td>\n",
       "      <td>63.636364</td>\n",
       "      <td>1401.635220</td>\n",
       "      <td>63.64</td>\n",
       "      <td>168.0</td>\n",
       "    </tr>\n",
       "    <tr>\n",
       "      <th>102913</th>\n",
       "      <td>43.0</td>\n",
       "      <td>1</td>\n",
       "      <td>131.818182</td>\n",
       "      <td>379.852827</td>\n",
       "      <td>131.82</td>\n",
       "      <td>180.0</td>\n",
       "    </tr>\n",
       "    <tr>\n",
       "      <th>198879</th>\n",
       "      <td>59.0</td>\n",
       "      <td>1</td>\n",
       "      <td>93.181818</td>\n",
       "      <td>67.610551</td>\n",
       "      <td>87.73</td>\n",
       "      <td>185.0</td>\n",
       "    </tr>\n",
       "    <tr>\n",
       "      <th>413092</th>\n",
       "      <td>55.0</td>\n",
       "      <td>2</td>\n",
       "      <td>85.454545</td>\n",
       "      <td>24.512282</td>\n",
       "      <td>87.27</td>\n",
       "      <td>160.0</td>\n",
       "    </tr>\n",
       "    <tr>\n",
       "      <th>20074</th>\n",
       "      <td>75.0</td>\n",
       "      <td>2</td>\n",
       "      <td>59.090909</td>\n",
       "      <td>366.588494</td>\n",
       "      <td>59.09</td>\n",
       "      <td>163.0</td>\n",
       "    </tr>\n",
       "    <tr>\n",
       "      <th>392562</th>\n",
       "      <td>72.0</td>\n",
       "      <td>2</td>\n",
       "      <td>65.909091</td>\n",
       "      <td>56.602095</td>\n",
       "      <td>65.91</td>\n",
       "      <td>170.0</td>\n",
       "    </tr>\n",
       "    <tr>\n",
       "      <th>184095</th>\n",
       "      <td>57.0</td>\n",
       "      <td>1</td>\n",
       "      <td>84.090909</td>\n",
       "      <td>174.756169</td>\n",
       "      <td>84.09</td>\n",
       "      <td>193.0</td>\n",
       "    </tr>\n",
       "    <tr>\n",
       "      <th>206222</th>\n",
       "      <td>70.0</td>\n",
       "      <td>2</td>\n",
       "      <td>90.909091</td>\n",
       "      <td>27.960142</td>\n",
       "      <td>79.55</td>\n",
       "      <td>173.0</td>\n",
       "    </tr>\n",
       "    <tr>\n",
       "      <th>289143</th>\n",
       "      <td>64.0</td>\n",
       "      <td>1</td>\n",
       "      <td>104.545455</td>\n",
       "      <td>556.654501</td>\n",
       "      <td>104.55</td>\n",
       "      <td>173.0</td>\n",
       "    </tr>\n",
       "    <tr>\n",
       "      <th>254462</th>\n",
       "      <td>80.0</td>\n",
       "      <td>1</td>\n",
       "      <td>68.181818</td>\n",
       "      <td>279.214140</td>\n",
       "      <td>68.18</td>\n",
       "      <td>165.0</td>\n",
       "    </tr>\n",
       "    <tr>\n",
       "      <th>60935</th>\n",
       "      <td>58.0</td>\n",
       "      <td>2</td>\n",
       "      <td>84.090909</td>\n",
       "      <td>615.642962</td>\n",
       "      <td>78.18</td>\n",
       "      <td>180.0</td>\n",
       "    </tr>\n",
       "    <tr>\n",
       "      <th>248915</th>\n",
       "      <td>41.0</td>\n",
       "      <td>2</td>\n",
       "      <td>61.363636</td>\n",
       "      <td>3856.096780</td>\n",
       "      <td>65.00</td>\n",
       "      <td>165.0</td>\n",
       "    </tr>\n",
       "    <tr>\n",
       "      <th>65972</th>\n",
       "      <td>57.0</td>\n",
       "      <td>1</td>\n",
       "      <td>95.454545</td>\n",
       "      <td>226.743877</td>\n",
       "      <td>95.45</td>\n",
       "      <td>178.0</td>\n",
       "    </tr>\n",
       "    <tr>\n",
       "      <th>251314</th>\n",
       "      <td>69.0</td>\n",
       "      <td>2</td>\n",
       "      <td>52.272727</td>\n",
       "      <td>74.526186</td>\n",
       "      <td>72.73</td>\n",
       "      <td>152.0</td>\n",
       "    </tr>\n",
       "    <tr>\n",
       "      <th>241907</th>\n",
       "      <td>41.0</td>\n",
       "      <td>2</td>\n",
       "      <td>63.636364</td>\n",
       "      <td>216.895105</td>\n",
       "      <td>63.64</td>\n",
       "      <td>170.0</td>\n",
       "    </tr>\n",
       "    <tr>\n",
       "      <th>87088</th>\n",
       "      <td>50.0</td>\n",
       "      <td>1</td>\n",
       "      <td>63.636364</td>\n",
       "      <td>2380.155780</td>\n",
       "      <td>63.64</td>\n",
       "      <td>168.0</td>\n",
       "    </tr>\n",
       "    <tr>\n",
       "      <th>279896</th>\n",
       "      <td>82.0</td>\n",
       "      <td>2</td>\n",
       "      <td>50.909091</td>\n",
       "      <td>348.223459</td>\n",
       "      <td>52.27</td>\n",
       "      <td>152.0</td>\n",
       "    </tr>\n",
       "    <tr>\n",
       "      <th>395409</th>\n",
       "      <td>88.0</td>\n",
       "      <td>2</td>\n",
       "      <td>54.545455</td>\n",
       "      <td>773.221951</td>\n",
       "      <td>54.55</td>\n",
       "      <td>152.0</td>\n",
       "    </tr>\n",
       "    <tr>\n",
       "      <th>142698</th>\n",
       "      <td>30.0</td>\n",
       "      <td>1</td>\n",
       "      <td>106.818182</td>\n",
       "      <td>186.093662</td>\n",
       "      <td>99.55</td>\n",
       "      <td>178.0</td>\n",
       "    </tr>\n",
       "    <tr>\n",
       "      <th>54719</th>\n",
       "      <td>64.0</td>\n",
       "      <td>1</td>\n",
       "      <td>87.727273</td>\n",
       "      <td>39.740841</td>\n",
       "      <td>86.36</td>\n",
       "      <td>180.0</td>\n",
       "    </tr>\n",
       "    <tr>\n",
       "      <th>...</th>\n",
       "      <td>...</td>\n",
       "      <td>...</td>\n",
       "      <td>...</td>\n",
       "      <td>...</td>\n",
       "      <td>...</td>\n",
       "      <td>...</td>\n",
       "    </tr>\n",
       "    <tr>\n",
       "      <th>90571</th>\n",
       "      <td>28.0</td>\n",
       "      <td>2</td>\n",
       "      <td>63.636364</td>\n",
       "      <td>3581.254150</td>\n",
       "      <td>65.45</td>\n",
       "      <td>160.0</td>\n",
       "    </tr>\n",
       "    <tr>\n",
       "      <th>408176</th>\n",
       "      <td>53.0</td>\n",
       "      <td>1</td>\n",
       "      <td>82.727273</td>\n",
       "      <td>1152.505040</td>\n",
       "      <td>88.64</td>\n",
       "      <td>180.0</td>\n",
       "    </tr>\n",
       "    <tr>\n",
       "      <th>352027</th>\n",
       "      <td>55.0</td>\n",
       "      <td>2</td>\n",
       "      <td>NaN</td>\n",
       "      <td>149.527063</td>\n",
       "      <td>NaN</td>\n",
       "      <td>165.0</td>\n",
       "    </tr>\n",
       "    <tr>\n",
       "      <th>376227</th>\n",
       "      <td>20.0</td>\n",
       "      <td>2</td>\n",
       "      <td>81.818182</td>\n",
       "      <td>338.359399</td>\n",
       "      <td>68.18</td>\n",
       "      <td>165.0</td>\n",
       "    </tr>\n",
       "    <tr>\n",
       "      <th>187516</th>\n",
       "      <td>39.0</td>\n",
       "      <td>2</td>\n",
       "      <td>86.363636</td>\n",
       "      <td>934.051406</td>\n",
       "      <td>82.73</td>\n",
       "      <td>160.0</td>\n",
       "    </tr>\n",
       "    <tr>\n",
       "      <th>224276</th>\n",
       "      <td>50.0</td>\n",
       "      <td>2</td>\n",
       "      <td>61.363636</td>\n",
       "      <td>131.774201</td>\n",
       "      <td>61.36</td>\n",
       "      <td>163.0</td>\n",
       "    </tr>\n",
       "    <tr>\n",
       "      <th>65907</th>\n",
       "      <td>51.0</td>\n",
       "      <td>1</td>\n",
       "      <td>84.090909</td>\n",
       "      <td>6608.581810</td>\n",
       "      <td>84.09</td>\n",
       "      <td>180.0</td>\n",
       "    </tr>\n",
       "    <tr>\n",
       "      <th>358422</th>\n",
       "      <td>66.0</td>\n",
       "      <td>1</td>\n",
       "      <td>86.363636</td>\n",
       "      <td>55.524741</td>\n",
       "      <td>84.09</td>\n",
       "      <td>180.0</td>\n",
       "    </tr>\n",
       "    <tr>\n",
       "      <th>158513</th>\n",
       "      <td>68.0</td>\n",
       "      <td>1</td>\n",
       "      <td>86.363636</td>\n",
       "      <td>106.717701</td>\n",
       "      <td>86.36</td>\n",
       "      <td>180.0</td>\n",
       "    </tr>\n",
       "    <tr>\n",
       "      <th>47792</th>\n",
       "      <td>56.0</td>\n",
       "      <td>2</td>\n",
       "      <td>68.181818</td>\n",
       "      <td>43.269066</td>\n",
       "      <td>68.18</td>\n",
       "      <td>163.0</td>\n",
       "    </tr>\n",
       "    <tr>\n",
       "      <th>155231</th>\n",
       "      <td>74.0</td>\n",
       "      <td>2</td>\n",
       "      <td>80.000000</td>\n",
       "      <td>19.472418</td>\n",
       "      <td>85.00</td>\n",
       "      <td>165.0</td>\n",
       "    </tr>\n",
       "    <tr>\n",
       "      <th>59608</th>\n",
       "      <td>22.0</td>\n",
       "      <td>2</td>\n",
       "      <td>50.000000</td>\n",
       "      <td>744.338909</td>\n",
       "      <td>52.27</td>\n",
       "      <td>NaN</td>\n",
       "    </tr>\n",
       "    <tr>\n",
       "      <th>211555</th>\n",
       "      <td>52.0</td>\n",
       "      <td>1</td>\n",
       "      <td>68.181818</td>\n",
       "      <td>20.383879</td>\n",
       "      <td>68.18</td>\n",
       "      <td>188.0</td>\n",
       "    </tr>\n",
       "    <tr>\n",
       "      <th>363834</th>\n",
       "      <td>80.0</td>\n",
       "      <td>2</td>\n",
       "      <td>69.090909</td>\n",
       "      <td>584.228021</td>\n",
       "      <td>69.09</td>\n",
       "      <td>170.0</td>\n",
       "    </tr>\n",
       "    <tr>\n",
       "      <th>108502</th>\n",
       "      <td>61.0</td>\n",
       "      <td>2</td>\n",
       "      <td>110.909091</td>\n",
       "      <td>158.124211</td>\n",
       "      <td>110.91</td>\n",
       "      <td>173.0</td>\n",
       "    </tr>\n",
       "    <tr>\n",
       "      <th>336727</th>\n",
       "      <td>51.0</td>\n",
       "      <td>2</td>\n",
       "      <td>71.818182</td>\n",
       "      <td>138.010964</td>\n",
       "      <td>71.82</td>\n",
       "      <td>160.0</td>\n",
       "    </tr>\n",
       "    <tr>\n",
       "      <th>263237</th>\n",
       "      <td>34.0</td>\n",
       "      <td>2</td>\n",
       "      <td>70.454545</td>\n",
       "      <td>351.079341</td>\n",
       "      <td>70.45</td>\n",
       "      <td>165.0</td>\n",
       "    </tr>\n",
       "    <tr>\n",
       "      <th>164177</th>\n",
       "      <td>NaN</td>\n",
       "      <td>2</td>\n",
       "      <td>68.181818</td>\n",
       "      <td>229.031070</td>\n",
       "      <td>68.18</td>\n",
       "      <td>160.0</td>\n",
       "    </tr>\n",
       "    <tr>\n",
       "      <th>41523</th>\n",
       "      <td>51.0</td>\n",
       "      <td>2</td>\n",
       "      <td>69.090909</td>\n",
       "      <td>221.414203</td>\n",
       "      <td>66.82</td>\n",
       "      <td>168.0</td>\n",
       "    </tr>\n",
       "    <tr>\n",
       "      <th>165389</th>\n",
       "      <td>26.0</td>\n",
       "      <td>2</td>\n",
       "      <td>65.909091</td>\n",
       "      <td>4176.846420</td>\n",
       "      <td>56.82</td>\n",
       "      <td>165.0</td>\n",
       "    </tr>\n",
       "    <tr>\n",
       "      <th>356331</th>\n",
       "      <td>36.0</td>\n",
       "      <td>1</td>\n",
       "      <td>47.727273</td>\n",
       "      <td>105.332730</td>\n",
       "      <td>50.00</td>\n",
       "      <td>127.0</td>\n",
       "    </tr>\n",
       "    <tr>\n",
       "      <th>254396</th>\n",
       "      <td>58.0</td>\n",
       "      <td>2</td>\n",
       "      <td>62.727273</td>\n",
       "      <td>175.085562</td>\n",
       "      <td>61.36</td>\n",
       "      <td>170.0</td>\n",
       "    </tr>\n",
       "    <tr>\n",
       "      <th>33955</th>\n",
       "      <td>82.0</td>\n",
       "      <td>1</td>\n",
       "      <td>75.000000</td>\n",
       "      <td>223.851679</td>\n",
       "      <td>75.00</td>\n",
       "      <td>180.0</td>\n",
       "    </tr>\n",
       "    <tr>\n",
       "      <th>106772</th>\n",
       "      <td>54.0</td>\n",
       "      <td>2</td>\n",
       "      <td>113.636364</td>\n",
       "      <td>181.524938</td>\n",
       "      <td>100.00</td>\n",
       "      <td>173.0</td>\n",
       "    </tr>\n",
       "    <tr>\n",
       "      <th>24095</th>\n",
       "      <td>24.0</td>\n",
       "      <td>2</td>\n",
       "      <td>72.727273</td>\n",
       "      <td>4536.271230</td>\n",
       "      <td>86.36</td>\n",
       "      <td>165.0</td>\n",
       "    </tr>\n",
       "    <tr>\n",
       "      <th>132093</th>\n",
       "      <td>51.0</td>\n",
       "      <td>1</td>\n",
       "      <td>72.727273</td>\n",
       "      <td>182.519088</td>\n",
       "      <td>72.73</td>\n",
       "      <td>175.0</td>\n",
       "    </tr>\n",
       "    <tr>\n",
       "      <th>207153</th>\n",
       "      <td>65.0</td>\n",
       "      <td>2</td>\n",
       "      <td>70.454545</td>\n",
       "      <td>52.633647</td>\n",
       "      <td>70.45</td>\n",
       "      <td>160.0</td>\n",
       "    </tr>\n",
       "    <tr>\n",
       "      <th>111675</th>\n",
       "      <td>69.0</td>\n",
       "      <td>2</td>\n",
       "      <td>63.636364</td>\n",
       "      <td>56.870858</td>\n",
       "      <td>63.64</td>\n",
       "      <td>152.0</td>\n",
       "    </tr>\n",
       "    <tr>\n",
       "      <th>386477</th>\n",
       "      <td>64.0</td>\n",
       "      <td>1</td>\n",
       "      <td>98.636364</td>\n",
       "      <td>119.295559</td>\n",
       "      <td>98.64</td>\n",
       "      <td>193.0</td>\n",
       "    </tr>\n",
       "    <tr>\n",
       "      <th>324835</th>\n",
       "      <td>62.0</td>\n",
       "      <td>2</td>\n",
       "      <td>NaN</td>\n",
       "      <td>52.523656</td>\n",
       "      <td>NaN</td>\n",
       "      <td>160.0</td>\n",
       "    </tr>\n",
       "  </tbody>\n",
       "</table>\n",
       "<p>5000 rows × 6 columns</p>\n",
       "</div>"
      ],
      "text/plain": [
       "         age  sex     wtyrago      finalwt   wtkg2   htm3\n",
       "213611  67.0    1   72.727273   108.100522   72.73  168.0\n",
       "107785  30.0    2   72.727273   335.632569   89.09  170.0\n",
       "132721  95.0    2         NaN   215.626580     NaN    NaN\n",
       "143966  34.0    2   88.181818   149.644700   88.18  165.0\n",
       "117950  76.0    1   87.272727   337.141581   73.64  180.0\n",
       "141654  47.0    2   86.363636   177.217172   86.36  155.0\n",
       "20773   78.0    2   70.454545   183.294247   70.45  165.0\n",
       "66271   58.0    1   98.636364  2003.041400   85.91  175.0\n",
       "49004   85.0    2   59.090909    80.762855   59.09  163.0\n",
       "338669  72.0    2  113.636364   661.767418  113.64  168.0\n",
       "301101  45.0    1   63.636364  1401.635220   63.64  168.0\n",
       "102913  43.0    1  131.818182   379.852827  131.82  180.0\n",
       "198879  59.0    1   93.181818    67.610551   87.73  185.0\n",
       "413092  55.0    2   85.454545    24.512282   87.27  160.0\n",
       "20074   75.0    2   59.090909   366.588494   59.09  163.0\n",
       "392562  72.0    2   65.909091    56.602095   65.91  170.0\n",
       "184095  57.0    1   84.090909   174.756169   84.09  193.0\n",
       "206222  70.0    2   90.909091    27.960142   79.55  173.0\n",
       "289143  64.0    1  104.545455   556.654501  104.55  173.0\n",
       "254462  80.0    1   68.181818   279.214140   68.18  165.0\n",
       "60935   58.0    2   84.090909   615.642962   78.18  180.0\n",
       "248915  41.0    2   61.363636  3856.096780   65.00  165.0\n",
       "65972   57.0    1   95.454545   226.743877   95.45  178.0\n",
       "251314  69.0    2   52.272727    74.526186   72.73  152.0\n",
       "241907  41.0    2   63.636364   216.895105   63.64  170.0\n",
       "87088   50.0    1   63.636364  2380.155780   63.64  168.0\n",
       "279896  82.0    2   50.909091   348.223459   52.27  152.0\n",
       "395409  88.0    2   54.545455   773.221951   54.55  152.0\n",
       "142698  30.0    1  106.818182   186.093662   99.55  178.0\n",
       "54719   64.0    1   87.727273    39.740841   86.36  180.0\n",
       "...      ...  ...         ...          ...     ...    ...\n",
       "90571   28.0    2   63.636364  3581.254150   65.45  160.0\n",
       "408176  53.0    1   82.727273  1152.505040   88.64  180.0\n",
       "352027  55.0    2         NaN   149.527063     NaN  165.0\n",
       "376227  20.0    2   81.818182   338.359399   68.18  165.0\n",
       "187516  39.0    2   86.363636   934.051406   82.73  160.0\n",
       "224276  50.0    2   61.363636   131.774201   61.36  163.0\n",
       "65907   51.0    1   84.090909  6608.581810   84.09  180.0\n",
       "358422  66.0    1   86.363636    55.524741   84.09  180.0\n",
       "158513  68.0    1   86.363636   106.717701   86.36  180.0\n",
       "47792   56.0    2   68.181818    43.269066   68.18  163.0\n",
       "155231  74.0    2   80.000000    19.472418   85.00  165.0\n",
       "59608   22.0    2   50.000000   744.338909   52.27    NaN\n",
       "211555  52.0    1   68.181818    20.383879   68.18  188.0\n",
       "363834  80.0    2   69.090909   584.228021   69.09  170.0\n",
       "108502  61.0    2  110.909091   158.124211  110.91  173.0\n",
       "336727  51.0    2   71.818182   138.010964   71.82  160.0\n",
       "263237  34.0    2   70.454545   351.079341   70.45  165.0\n",
       "164177   NaN    2   68.181818   229.031070   68.18  160.0\n",
       "41523   51.0    2   69.090909   221.414203   66.82  168.0\n",
       "165389  26.0    2   65.909091  4176.846420   56.82  165.0\n",
       "356331  36.0    1   47.727273   105.332730   50.00  127.0\n",
       "254396  58.0    2   62.727273   175.085562   61.36  170.0\n",
       "33955   82.0    1   75.000000   223.851679   75.00  180.0\n",
       "106772  54.0    2  113.636364   181.524938  100.00  173.0\n",
       "24095   24.0    2   72.727273  4536.271230   86.36  165.0\n",
       "132093  51.0    1   72.727273   182.519088   72.73  175.0\n",
       "207153  65.0    2   70.454545    52.633647   70.45  160.0\n",
       "111675  69.0    2   63.636364    56.870858   63.64  152.0\n",
       "386477  64.0    1   98.636364   119.295559   98.64  193.0\n",
       "324835  62.0    2         NaN    52.523656     NaN  160.0\n",
       "\n",
       "[5000 rows x 6 columns]"
      ]
     },
     "execution_count": 10,
     "metadata": {},
     "output_type": "execute_result"
    }
   ],
   "source": [
    "sample = SampleRows(df, 5000)\n",
    "heights, weights = sample.htm3, sample.wtkg2\n",
    "sample"
   ]
  },
  {
   "cell_type": "markdown",
   "metadata": {},
   "source": [
    "Here's a simple scatter plot with `alpha=1`, so each data point is fully saturated."
   ]
  },
  {
   "cell_type": "code",
   "execution_count": 13,
   "metadata": {
    "collapsed": false
   },
   "outputs": [
    {
     "data": {
      "image/png": "[encoded data removed]",
      "text/plain": [
       "<matplotlib.figure.Figure at 0xd01af28>"
      ]
     },
     "metadata": {},
     "output_type": "display_data"
    }
   ],
   "source": [
    "thinkplot.Scatter(heights, weights, alpha=1,color='Orange')\n",
    "thinkplot.Config(xlabel='Height (cm)',\n",
    "                 ylabel='Weight (kg)',\n",
    "                 axis=[140, 210, 20, 200],\n",
    "                 legend=False)"
   ]
  },
  {
   "cell_type": "markdown",
   "metadata": {},
   "source": [
    "The data fall in obvious columns because they were rounded off.  We can reduce this visual artifact by adding some random noice to the data.\n",
    "\n",
    "NOTE: The version of `Jitter` in the book uses noise with a uniform distribution.  Here I am using a normal distribution.  The normal distribution does a better job of blurring artifacts, but the uniform distribution might be more true to the data."
   ]
  },
  {
   "cell_type": "code",
   "execution_count": 14,
   "metadata": {
    "collapsed": false
   },
   "outputs": [],
   "source": [
    "# https://docs.scipy.org/doc/numpy/reference/generated/numpy.random.normal.html\n",
    "def Jitter(values, jitter=0.5):\n",
    "    n = len(values)\n",
    "    return np.random.normal(0, jitter, n) + values"
   ]
  },
  {
   "cell_type": "markdown",
   "metadata": {},
   "source": [
    "Heights were probably rounded off to the nearest inch, which is 2.8 cm, so I'll add random values from -1.4 to 1.4."
   ]
  },
  {
   "cell_type": "code",
   "execution_count": 15,
   "metadata": {
    "collapsed": false
   },
   "outputs": [],
   "source": [
    "\n",
    "heights = Jitter(heights, 1.4)\n",
    "weights = Jitter(weights, 0.5)\n"
   ]
  },
  {
   "cell_type": "markdown",
   "metadata": {},
   "source": [
    "And here's what the jittered data look like."
   ]
  },
  {
   "cell_type": "code",
   "execution_count": 16,
   "metadata": {
    "collapsed": false
   },
   "outputs": [
    {
     "data": {
      "image/png": "[encoded data removed]",
      "text/plain": [
       "<matplotlib.figure.Figure at 0xc4e5278>"
      ]
     },
     "metadata": {},
     "output_type": "display_data"
    }
   ],
   "source": [
    "thinkplot.Scatter(heights, weights, alpha=1.0)\n",
    "thinkplot.Config(xlabel='Height (cm)',\n",
    "                 ylabel='Weight (kg)',\n",
    "                 axis=[140, 210, 20, 200],\n",
    "                 legend=False)"
   ]
  },
  {
   "cell_type": "markdown",
   "metadata": {},
   "source": [
    "The columns are gone, but now we have a different problem: saturation.  Where there are many overlapping points, the plot is not as dark as it should be, which means that the outliers are darker than they should be, which gives the impression that the data are more scattered than they actually are.\n",
    "\n",
    "This is a surprisingly common problem, even in papers published in peer-reviewed journals.\n",
    "\n",
    "We can usually solve the saturation problem by adjusting `alpha` and the size of the markers, `s`."
   ]
  },
  {
   "cell_type": "code",
   "execution_count": 18,
   "metadata": {
    "collapsed": false
   },
   "outputs": [
    {
     "data": {
      "image/png": "[encoded data removed]",
      "text/plain": [
       "<matplotlib.figure.Figure at 0x14132e80>"
      ]
     },
     "metadata": {},
     "output_type": "display_data"
    }
   ],
   "source": [
    "thinkplot.Scatter(heights, weights, alpha=0.1, s=10,color='black')\n",
    "thinkplot.Config(xlabel='Height (cm)',\n",
    "                 ylabel='Weight (kg)',\n",
    "                 axis=[140, 210, 20, 200],\n",
    "                 legend=False)"
   ]
  },
  {
   "cell_type": "markdown",
   "metadata": {},
   "source": [
    "That's better.  This version of the figure shows the location and shape of the distribution most accurately.  There are still some apparent columns and rows where, most likely, people reported their height and weight using rounded values.  If that effect is important, this figure makes it apparent; if it is not important, we could use more aggressive jittering to minimize it. "
   ]
  },
  {
   "cell_type": "markdown",
   "metadata": {},
   "source": [
    "An alternative to a scatter plot is something like a `HexBin` plot, which breaks the plane into bins, counts the number of respondents in each bin, and colors each bin in proportion to its count."
   ]
  },
  {
   "cell_type": "code",
   "execution_count": 20,
   "metadata": {
    "collapsed": false
   },
   "outputs": [
    {
     "data": {
      "image/png": "[encoded data removed]",
      "text/plain": [
       "<matplotlib.figure.Figure at 0x142b5438>"
      ]
     },
     "metadata": {},
     "output_type": "display_data"
    }
   ],
   "source": [
    "# https://matplotlib.org/examples/color/colormaps_reference.html\n",
    "thinkplot.HexBin(heights, weights, cmap='cool')\n",
    "thinkplot.Config(xlabel='Height (cm)',\n",
    "                 ylabel='Weight (kg)',\n",
    "                 axis=[140, 210, 20, 200],\n",
    "                 legend=False)"
   ]
  },
  {
   "cell_type": "markdown",
   "metadata": {},
   "source": [
    "In this case the binned plot does a pretty good job of showing the location and shape of the distribution.  It obscures the row and column effects, which may or may not be a good thing."
   ]
  },
  {
   "cell_type": "markdown",
   "metadata": {},
   "source": [
    "**Exercise:**  So far we have been working with a subset of only 5000 respondents.  When we include the entire dataset, making an effective scatterplot can be tricky.  As an exercise, experiment with `Scatter` and `HexBin` to make a plot that represents the entire dataset well."
   ]
  },
  {
   "cell_type": "code",
   "execution_count": 23,
   "metadata": {
    "collapsed": false
   },
   "outputs": [
    {
     "data": {
      "image/png": "[encoded data removed]",
      "text/plain": [
       "<matplotlib.figure.Figure at 0xd8dfcc0>"
      ]
     },
     "metadata": {},
     "output_type": "display_data"
    }
   ],
   "source": [
    "# With smaller markers, I needed more aggressive jittering to\n",
    "# blur the measurement artifacts\n",
    "\n",
    "# With this dataset, using all of the rows might be more trouble\n",
    "# than it's worth.  Visualizing a subset of the data might be\n",
    "# more practical and more effective.\n",
    "\n",
    "heights = Jitter(df.htm3, 2.8)\n",
    "weights = Jitter(df.wtkg2, 1.0)\n",
    "\n",
    "thinkplot.Scatter(heights, weights, alpha=0.01, s=2)\n",
    "thinkplot.Config(xlabel='Height (cm)',\n",
    "                 ylabel='Weight (kg)',\n",
    "                 axis=[140, 210, 20, 200],\n",
    "                 legend=False)"
   ]
  },
  {
   "cell_type": "markdown",
   "metadata": {},
   "source": [
    "## Plotting percentiles\n",
    "\n",
    "Sometimes a better way to get a sense of the relationship between variables is to divide the dataset into groups using one variable, and then plot percentiles of the other variable.\n",
    "\n",
    "First I'll drop any rows that are missing height or weight."
   ]
  },
  {
   "cell_type": "code",
   "execution_count": 24,
   "metadata": {
    "collapsed": false
   },
   "outputs": [
    {
     "data": {
      "text/html": [
       "<div>\n",
       "<table border=\"1\" class=\"dataframe\">\n",
       "  <thead>\n",
       "    <tr style=\"text-align: right;\">\n",
       "      <th></th>\n",
       "      <th>age</th>\n",
       "      <th>sex</th>\n",
       "      <th>wtyrago</th>\n",
       "      <th>finalwt</th>\n",
       "      <th>wtkg2</th>\n",
       "      <th>htm3</th>\n",
       "    </tr>\n",
       "  </thead>\n",
       "  <tbody>\n",
       "    <tr>\n",
       "      <th>0</th>\n",
       "      <td>82.0</td>\n",
       "      <td>2</td>\n",
       "      <td>76.363636</td>\n",
       "      <td>185.870345</td>\n",
       "      <td>70.91</td>\n",
       "      <td>157.0</td>\n",
       "    </tr>\n",
       "    <tr>\n",
       "      <th>1</th>\n",
       "      <td>65.0</td>\n",
       "      <td>2</td>\n",
       "      <td>72.727273</td>\n",
       "      <td>126.603027</td>\n",
       "      <td>72.73</td>\n",
       "      <td>163.0</td>\n",
       "    </tr>\n",
       "    <tr>\n",
       "      <th>3</th>\n",
       "      <td>61.0</td>\n",
       "      <td>1</td>\n",
       "      <td>73.636364</td>\n",
       "      <td>517.926275</td>\n",
       "      <td>73.64</td>\n",
       "      <td>170.0</td>\n",
       "    </tr>\n",
       "    <tr>\n",
       "      <th>4</th>\n",
       "      <td>26.0</td>\n",
       "      <td>1</td>\n",
       "      <td>88.636364</td>\n",
       "      <td>1252.624630</td>\n",
       "      <td>88.64</td>\n",
       "      <td>185.0</td>\n",
       "    </tr>\n",
       "    <tr>\n",
       "      <th>5</th>\n",
       "      <td>42.0</td>\n",
       "      <td>1</td>\n",
       "      <td>118.181818</td>\n",
       "      <td>415.161314</td>\n",
       "      <td>109.09</td>\n",
       "      <td>183.0</td>\n",
       "    </tr>\n",
       "    <tr>\n",
       "      <th>6</th>\n",
       "      <td>40.0</td>\n",
       "      <td>2</td>\n",
       "      <td>50.000000</td>\n",
       "      <td>422.810541</td>\n",
       "      <td>50.00</td>\n",
       "      <td>157.0</td>\n",
       "    </tr>\n",
       "    <tr>\n",
       "      <th>7</th>\n",
       "      <td>24.0</td>\n",
       "      <td>2</td>\n",
       "      <td>131.818182</td>\n",
       "      <td>1280.585980</td>\n",
       "      <td>122.73</td>\n",
       "      <td>178.0</td>\n",
       "    </tr>\n",
       "    <tr>\n",
       "      <th>8</th>\n",
       "      <td>37.0</td>\n",
       "      <td>1</td>\n",
       "      <td>87.727273</td>\n",
       "      <td>1245.060440</td>\n",
       "      <td>90.00</td>\n",
       "      <td>178.0</td>\n",
       "    </tr>\n",
       "    <tr>\n",
       "      <th>9</th>\n",
       "      <td>65.0</td>\n",
       "      <td>1</td>\n",
       "      <td>77.272727</td>\n",
       "      <td>382.738158</td>\n",
       "      <td>77.27</td>\n",
       "      <td>173.0</td>\n",
       "    </tr>\n",
       "    <tr>\n",
       "      <th>10</th>\n",
       "      <td>28.0</td>\n",
       "      <td>1</td>\n",
       "      <td>52.272727</td>\n",
       "      <td>3131.561570</td>\n",
       "      <td>63.64</td>\n",
       "      <td>170.0</td>\n",
       "    </tr>\n",
       "    <tr>\n",
       "      <th>11</th>\n",
       "      <td>68.0</td>\n",
       "      <td>2</td>\n",
       "      <td>86.363636</td>\n",
       "      <td>506.412109</td>\n",
       "      <td>78.18</td>\n",
       "      <td>168.0</td>\n",
       "    </tr>\n",
       "    <tr>\n",
       "      <th>12</th>\n",
       "      <td>40.0</td>\n",
       "      <td>2</td>\n",
       "      <td>62.727273</td>\n",
       "      <td>422.810541</td>\n",
       "      <td>62.73</td>\n",
       "      <td>175.0</td>\n",
       "    </tr>\n",
       "    <tr>\n",
       "      <th>13</th>\n",
       "      <td>49.0</td>\n",
       "      <td>1</td>\n",
       "      <td>127.272727</td>\n",
       "      <td>274.170333</td>\n",
       "      <td>127.27</td>\n",
       "      <td>183.0</td>\n",
       "    </tr>\n",
       "    <tr>\n",
       "      <th>14</th>\n",
       "      <td>24.0</td>\n",
       "      <td>2</td>\n",
       "      <td>95.454545</td>\n",
       "      <td>2561.171960</td>\n",
       "      <td>95.45</td>\n",
       "      <td>175.0</td>\n",
       "    </tr>\n",
       "    <tr>\n",
       "      <th>15</th>\n",
       "      <td>49.0</td>\n",
       "      <td>2</td>\n",
       "      <td>88.636364</td>\n",
       "      <td>181.063210</td>\n",
       "      <td>88.64</td>\n",
       "      <td>157.0</td>\n",
       "    </tr>\n",
       "    <tr>\n",
       "      <th>16</th>\n",
       "      <td>36.0</td>\n",
       "      <td>2</td>\n",
       "      <td>113.636364</td>\n",
       "      <td>211.405271</td>\n",
       "      <td>90.91</td>\n",
       "      <td>168.0</td>\n",
       "    </tr>\n",
       "    <tr>\n",
       "      <th>17</th>\n",
       "      <td>48.0</td>\n",
       "      <td>2</td>\n",
       "      <td>NaN</td>\n",
       "      <td>181.063210</td>\n",
       "      <td>50.00</td>\n",
       "      <td>155.0</td>\n",
       "    </tr>\n",
       "    <tr>\n",
       "      <th>18</th>\n",
       "      <td>65.0</td>\n",
       "      <td>2</td>\n",
       "      <td>100.000000</td>\n",
       "      <td>253.206055</td>\n",
       "      <td>100.00</td>\n",
       "      <td>160.0</td>\n",
       "    </tr>\n",
       "    <tr>\n",
       "      <th>19</th>\n",
       "      <td>75.0</td>\n",
       "      <td>2</td>\n",
       "      <td>72.727273</td>\n",
       "      <td>185.870345</td>\n",
       "      <td>72.73</td>\n",
       "      <td>165.0</td>\n",
       "    </tr>\n",
       "    <tr>\n",
       "      <th>20</th>\n",
       "      <td>67.0</td>\n",
       "      <td>1</td>\n",
       "      <td>76.363636</td>\n",
       "      <td>382.738158</td>\n",
       "      <td>76.36</td>\n",
       "      <td>157.0</td>\n",
       "    </tr>\n",
       "    <tr>\n",
       "      <th>21</th>\n",
       "      <td>27.0</td>\n",
       "      <td>2</td>\n",
       "      <td>63.636364</td>\n",
       "      <td>330.717253</td>\n",
       "      <td>63.64</td>\n",
       "      <td>155.0</td>\n",
       "    </tr>\n",
       "    <tr>\n",
       "      <th>22</th>\n",
       "      <td>55.0</td>\n",
       "      <td>2</td>\n",
       "      <td>54.545455</td>\n",
       "      <td>153.403814</td>\n",
       "      <td>55.45</td>\n",
       "      <td>165.0</td>\n",
       "    </tr>\n",
       "    <tr>\n",
       "      <th>23</th>\n",
       "      <td>78.0</td>\n",
       "      <td>1</td>\n",
       "      <td>79.545455</td>\n",
       "      <td>438.143347</td>\n",
       "      <td>78.18</td>\n",
       "      <td>183.0</td>\n",
       "    </tr>\n",
       "    <tr>\n",
       "      <th>24</th>\n",
       "      <td>30.0</td>\n",
       "      <td>2</td>\n",
       "      <td>NaN</td>\n",
       "      <td>661.434505</td>\n",
       "      <td>90.91</td>\n",
       "      <td>160.0</td>\n",
       "    </tr>\n",
       "    <tr>\n",
       "      <th>25</th>\n",
       "      <td>48.0</td>\n",
       "      <td>2</td>\n",
       "      <td>61.818182</td>\n",
       "      <td>271.502466</td>\n",
       "      <td>71.82</td>\n",
       "      <td>157.0</td>\n",
       "    </tr>\n",
       "    <tr>\n",
       "      <th>26</th>\n",
       "      <td>65.0</td>\n",
       "      <td>1</td>\n",
       "      <td>77.272727</td>\n",
       "      <td>382.738158</td>\n",
       "      <td>77.27</td>\n",
       "      <td>173.0</td>\n",
       "    </tr>\n",
       "    <tr>\n",
       "      <th>27</th>\n",
       "      <td>42.0</td>\n",
       "      <td>2</td>\n",
       "      <td>52.272727</td>\n",
       "      <td>422.810541</td>\n",
       "      <td>62.73</td>\n",
       "      <td>157.0</td>\n",
       "    </tr>\n",
       "    <tr>\n",
       "      <th>28</th>\n",
       "      <td>70.0</td>\n",
       "      <td>2</td>\n",
       "      <td>59.090909</td>\n",
       "      <td>126.603027</td>\n",
       "      <td>59.09</td>\n",
       "      <td>157.0</td>\n",
       "    </tr>\n",
       "    <tr>\n",
       "      <th>29</th>\n",
       "      <td>80.0</td>\n",
       "      <td>2</td>\n",
       "      <td>65.909091</td>\n",
       "      <td>185.870345</td>\n",
       "      <td>65.91</td>\n",
       "      <td>165.0</td>\n",
       "    </tr>\n",
       "    <tr>\n",
       "      <th>30</th>\n",
       "      <td>67.0</td>\n",
       "      <td>2</td>\n",
       "      <td>72.727273</td>\n",
       "      <td>126.603027</td>\n",
       "      <td>72.73</td>\n",
       "      <td>165.0</td>\n",
       "    </tr>\n",
       "    <tr>\n",
       "      <th>...</th>\n",
       "      <td>...</td>\n",
       "      <td>...</td>\n",
       "      <td>...</td>\n",
       "      <td>...</td>\n",
       "      <td>...</td>\n",
       "      <td>...</td>\n",
       "    </tr>\n",
       "    <tr>\n",
       "      <th>414476</th>\n",
       "      <td>69.0</td>\n",
       "      <td>2</td>\n",
       "      <td>89.545455</td>\n",
       "      <td>6.780570</td>\n",
       "      <td>83.64</td>\n",
       "      <td>170.0</td>\n",
       "    </tr>\n",
       "    <tr>\n",
       "      <th>414477</th>\n",
       "      <td>68.0</td>\n",
       "      <td>1</td>\n",
       "      <td>NaN</td>\n",
       "      <td>3.854532</td>\n",
       "      <td>100.91</td>\n",
       "      <td>180.0</td>\n",
       "    </tr>\n",
       "    <tr>\n",
       "      <th>414478</th>\n",
       "      <td>35.0</td>\n",
       "      <td>2</td>\n",
       "      <td>56.818182</td>\n",
       "      <td>30.450983</td>\n",
       "      <td>56.82</td>\n",
       "      <td>163.0</td>\n",
       "    </tr>\n",
       "    <tr>\n",
       "      <th>414479</th>\n",
       "      <td>52.0</td>\n",
       "      <td>2</td>\n",
       "      <td>68.181818</td>\n",
       "      <td>18.649614</td>\n",
       "      <td>70.45</td>\n",
       "      <td>160.0</td>\n",
       "    </tr>\n",
       "    <tr>\n",
       "      <th>414480</th>\n",
       "      <td>62.0</td>\n",
       "      <td>1</td>\n",
       "      <td>89.090909</td>\n",
       "      <td>7.709065</td>\n",
       "      <td>89.09</td>\n",
       "      <td>178.0</td>\n",
       "    </tr>\n",
       "    <tr>\n",
       "      <th>414481</th>\n",
       "      <td>50.0</td>\n",
       "      <td>1</td>\n",
       "      <td>79.545455</td>\n",
       "      <td>13.339183</td>\n",
       "      <td>76.36</td>\n",
       "      <td>178.0</td>\n",
       "    </tr>\n",
       "    <tr>\n",
       "      <th>414482</th>\n",
       "      <td>61.0</td>\n",
       "      <td>2</td>\n",
       "      <td>51.363636</td>\n",
       "      <td>10.347511</td>\n",
       "      <td>51.36</td>\n",
       "      <td>157.0</td>\n",
       "    </tr>\n",
       "    <tr>\n",
       "      <th>414483</th>\n",
       "      <td>65.0</td>\n",
       "      <td>2</td>\n",
       "      <td>77.272727</td>\n",
       "      <td>13.561141</td>\n",
       "      <td>68.18</td>\n",
       "      <td>160.0</td>\n",
       "    </tr>\n",
       "    <tr>\n",
       "      <th>414484</th>\n",
       "      <td>39.0</td>\n",
       "      <td>2</td>\n",
       "      <td>81.818182</td>\n",
       "      <td>15.225492</td>\n",
       "      <td>87.27</td>\n",
       "      <td>170.0</td>\n",
       "    </tr>\n",
       "    <tr>\n",
       "      <th>414485</th>\n",
       "      <td>27.0</td>\n",
       "      <td>2</td>\n",
       "      <td>68.181818</td>\n",
       "      <td>37.495182</td>\n",
       "      <td>77.27</td>\n",
       "      <td>157.0</td>\n",
       "    </tr>\n",
       "    <tr>\n",
       "      <th>414486</th>\n",
       "      <td>NaN</td>\n",
       "      <td>2</td>\n",
       "      <td>61.363636</td>\n",
       "      <td>5.594069</td>\n",
       "      <td>61.36</td>\n",
       "      <td>168.0</td>\n",
       "    </tr>\n",
       "    <tr>\n",
       "      <th>414488</th>\n",
       "      <td>70.0</td>\n",
       "      <td>1</td>\n",
       "      <td>100.000000</td>\n",
       "      <td>14.994430</td>\n",
       "      <td>102.27</td>\n",
       "      <td>175.0</td>\n",
       "    </tr>\n",
       "    <tr>\n",
       "      <th>414489</th>\n",
       "      <td>23.0</td>\n",
       "      <td>2</td>\n",
       "      <td>92.727273</td>\n",
       "      <td>22.632437</td>\n",
       "      <td>86.36</td>\n",
       "      <td>163.0</td>\n",
       "    </tr>\n",
       "    <tr>\n",
       "      <th>414490</th>\n",
       "      <td>54.0</td>\n",
       "      <td>1</td>\n",
       "      <td>71.818182</td>\n",
       "      <td>30.926341</td>\n",
       "      <td>71.82</td>\n",
       "      <td>170.0</td>\n",
       "    </tr>\n",
       "    <tr>\n",
       "      <th>414492</th>\n",
       "      <td>65.0</td>\n",
       "      <td>2</td>\n",
       "      <td>70.454545</td>\n",
       "      <td>6.780570</td>\n",
       "      <td>70.45</td>\n",
       "      <td>157.0</td>\n",
       "    </tr>\n",
       "    <tr>\n",
       "      <th>414493</th>\n",
       "      <td>50.0</td>\n",
       "      <td>2</td>\n",
       "      <td>56.818182</td>\n",
       "      <td>22.376276</td>\n",
       "      <td>56.82</td>\n",
       "      <td>170.0</td>\n",
       "    </tr>\n",
       "    <tr>\n",
       "      <th>414494</th>\n",
       "      <td>49.0</td>\n",
       "      <td>2</td>\n",
       "      <td>90.909091</td>\n",
       "      <td>12.433076</td>\n",
       "      <td>68.18</td>\n",
       "      <td>152.0</td>\n",
       "    </tr>\n",
       "    <tr>\n",
       "      <th>414495</th>\n",
       "      <td>61.0</td>\n",
       "      <td>2</td>\n",
       "      <td>68.181818</td>\n",
       "      <td>12.395319</td>\n",
       "      <td>72.73</td>\n",
       "      <td>165.0</td>\n",
       "    </tr>\n",
       "    <tr>\n",
       "      <th>414496</th>\n",
       "      <td>37.0</td>\n",
       "      <td>2</td>\n",
       "      <td>61.363636</td>\n",
       "      <td>15.225492</td>\n",
       "      <td>56.82</td>\n",
       "      <td>157.0</td>\n",
       "    </tr>\n",
       "    <tr>\n",
       "      <th>414497</th>\n",
       "      <td>66.0</td>\n",
       "      <td>2</td>\n",
       "      <td>70.909091</td>\n",
       "      <td>13.561141</td>\n",
       "      <td>65.91</td>\n",
       "      <td>163.0</td>\n",
       "    </tr>\n",
       "    <tr>\n",
       "      <th>414498</th>\n",
       "      <td>34.0</td>\n",
       "      <td>1</td>\n",
       "      <td>77.272727</td>\n",
       "      <td>46.875400</td>\n",
       "      <td>75.00</td>\n",
       "      <td>173.0</td>\n",
       "    </tr>\n",
       "    <tr>\n",
       "      <th>414499</th>\n",
       "      <td>38.0</td>\n",
       "      <td>2</td>\n",
       "      <td>118.181818</td>\n",
       "      <td>15.225492</td>\n",
       "      <td>129.55</td>\n",
       "      <td>173.0</td>\n",
       "    </tr>\n",
       "    <tr>\n",
       "      <th>414500</th>\n",
       "      <td>43.0</td>\n",
       "      <td>2</td>\n",
       "      <td>66.363636</td>\n",
       "      <td>7.612746</td>\n",
       "      <td>75.00</td>\n",
       "      <td>168.0</td>\n",
       "    </tr>\n",
       "    <tr>\n",
       "      <th>414501</th>\n",
       "      <td>41.0</td>\n",
       "      <td>1</td>\n",
       "      <td>86.363636</td>\n",
       "      <td>25.989792</td>\n",
       "      <td>86.36</td>\n",
       "      <td>175.0</td>\n",
       "    </tr>\n",
       "    <tr>\n",
       "      <th>414503</th>\n",
       "      <td>40.0</td>\n",
       "      <td>1</td>\n",
       "      <td>78.181818</td>\n",
       "      <td>106.771882</td>\n",
       "      <td>78.18</td>\n",
       "      <td>168.0</td>\n",
       "    </tr>\n",
       "    <tr>\n",
       "      <th>414504</th>\n",
       "      <td>23.0</td>\n",
       "      <td>1</td>\n",
       "      <td>84.090909</td>\n",
       "      <td>43.439320</td>\n",
       "      <td>88.64</td>\n",
       "      <td>191.0</td>\n",
       "    </tr>\n",
       "    <tr>\n",
       "      <th>414505</th>\n",
       "      <td>49.0</td>\n",
       "      <td>2</td>\n",
       "      <td>70.454545</td>\n",
       "      <td>6.216538</td>\n",
       "      <td>72.73</td>\n",
       "      <td>170.0</td>\n",
       "    </tr>\n",
       "    <tr>\n",
       "      <th>414506</th>\n",
       "      <td>45.0</td>\n",
       "      <td>1</td>\n",
       "      <td>86.363636</td>\n",
       "      <td>20.617560</td>\n",
       "      <td>90.91</td>\n",
       "      <td>178.0</td>\n",
       "    </tr>\n",
       "    <tr>\n",
       "      <th>414507</th>\n",
       "      <td>52.0</td>\n",
       "      <td>2</td>\n",
       "      <td>89.090909</td>\n",
       "      <td>11.188138</td>\n",
       "      <td>89.09</td>\n",
       "      <td>157.0</td>\n",
       "    </tr>\n",
       "    <tr>\n",
       "      <th>414508</th>\n",
       "      <td>38.0</td>\n",
       "      <td>1</td>\n",
       "      <td>75.000000</td>\n",
       "      <td>25.989792</td>\n",
       "      <td>75.00</td>\n",
       "      <td>178.0</td>\n",
       "    </tr>\n",
       "  </tbody>\n",
       "</table>\n",
       "<p>395832 rows × 6 columns</p>\n",
       "</div>"
      ],
      "text/plain": [
       "         age  sex     wtyrago      finalwt   wtkg2   htm3\n",
       "0       82.0    2   76.363636   185.870345   70.91  157.0\n",
       "1       65.0    2   72.727273   126.603027   72.73  163.0\n",
       "3       61.0    1   73.636364   517.926275   73.64  170.0\n",
       "4       26.0    1   88.636364  1252.624630   88.64  185.0\n",
       "5       42.0    1  118.181818   415.161314  109.09  183.0\n",
       "6       40.0    2   50.000000   422.810541   50.00  157.0\n",
       "7       24.0    2  131.818182  1280.585980  122.73  178.0\n",
       "8       37.0    1   87.727273  1245.060440   90.00  178.0\n",
       "9       65.0    1   77.272727   382.738158   77.27  173.0\n",
       "10      28.0    1   52.272727  3131.561570   63.64  170.0\n",
       "11      68.0    2   86.363636   506.412109   78.18  168.0\n",
       "12      40.0    2   62.727273   422.810541   62.73  175.0\n",
       "13      49.0    1  127.272727   274.170333  127.27  183.0\n",
       "14      24.0    2   95.454545  2561.171960   95.45  175.0\n",
       "15      49.0    2   88.636364   181.063210   88.64  157.0\n",
       "16      36.0    2  113.636364   211.405271   90.91  168.0\n",
       "17      48.0    2         NaN   181.063210   50.00  155.0\n",
       "18      65.0    2  100.000000   253.206055  100.00  160.0\n",
       "19      75.0    2   72.727273   185.870345   72.73  165.0\n",
       "20      67.0    1   76.363636   382.738158   76.36  157.0\n",
       "21      27.0    2   63.636364   330.717253   63.64  155.0\n",
       "22      55.0    2   54.545455   153.403814   55.45  165.0\n",
       "23      78.0    1   79.545455   438.143347   78.18  183.0\n",
       "24      30.0    2         NaN   661.434505   90.91  160.0\n",
       "25      48.0    2   61.818182   271.502466   71.82  157.0\n",
       "26      65.0    1   77.272727   382.738158   77.27  173.0\n",
       "27      42.0    2   52.272727   422.810541   62.73  157.0\n",
       "28      70.0    2   59.090909   126.603027   59.09  157.0\n",
       "29      80.0    2   65.909091   185.870345   65.91  165.0\n",
       "30      67.0    2   72.727273   126.603027   72.73  165.0\n",
       "...      ...  ...         ...          ...     ...    ...\n",
       "414476  69.0    2   89.545455     6.780570   83.64  170.0\n",
       "414477  68.0    1         NaN     3.854532  100.91  180.0\n",
       "414478  35.0    2   56.818182    30.450983   56.82  163.0\n",
       "414479  52.0    2   68.181818    18.649614   70.45  160.0\n",
       "414480  62.0    1   89.090909     7.709065   89.09  178.0\n",
       "414481  50.0    1   79.545455    13.339183   76.36  178.0\n",
       "414482  61.0    2   51.363636    10.347511   51.36  157.0\n",
       "414483  65.0    2   77.272727    13.561141   68.18  160.0\n",
       "414484  39.0    2   81.818182    15.225492   87.27  170.0\n",
       "414485  27.0    2   68.181818    37.495182   77.27  157.0\n",
       "414486   NaN    2   61.363636     5.594069   61.36  168.0\n",
       "414488  70.0    1  100.000000    14.994430  102.27  175.0\n",
       "414489  23.0    2   92.727273    22.632437   86.36  163.0\n",
       "414490  54.0    1   71.818182    30.926341   71.82  170.0\n",
       "414492  65.0    2   70.454545     6.780570   70.45  157.0\n",
       "414493  50.0    2   56.818182    22.376276   56.82  170.0\n",
       "414494  49.0    2   90.909091    12.433076   68.18  152.0\n",
       "414495  61.0    2   68.181818    12.395319   72.73  165.0\n",
       "414496  37.0    2   61.363636    15.225492   56.82  157.0\n",
       "414497  66.0    2   70.909091    13.561141   65.91  163.0\n",
       "414498  34.0    1   77.272727    46.875400   75.00  173.0\n",
       "414499  38.0    2  118.181818    15.225492  129.55  173.0\n",
       "414500  43.0    2   66.363636     7.612746   75.00  168.0\n",
       "414501  41.0    1   86.363636    25.989792   86.36  175.0\n",
       "414503  40.0    1   78.181818   106.771882   78.18  168.0\n",
       "414504  23.0    1   84.090909    43.439320   88.64  191.0\n",
       "414505  49.0    2   70.454545     6.216538   72.73  170.0\n",
       "414506  45.0    1   86.363636    20.617560   90.91  178.0\n",
       "414507  52.0    2   89.090909    11.188138   89.09  157.0\n",
       "414508  38.0    1   75.000000    25.989792   75.00  178.0\n",
       "\n",
       "[395832 rows x 6 columns]"
      ]
     },
     "execution_count": 24,
     "metadata": {},
     "output_type": "execute_result"
    }
   ],
   "source": [
    "cleaned = df.dropna(subset=['htm3', 'wtkg2'])\n",
    "cleaned"
   ]
  },
  {
   "cell_type": "markdown",
   "metadata": {},
   "source": [
    "Then I'll divide the dataset into groups by height."
   ]
  },
  {
   "cell_type": "code",
   "execution_count": 25,
   "metadata": {
    "collapsed": false
   },
   "outputs": [
    {
     "name": "stdout",
     "output_type": "stream",
     "text": [
      "[135 140 145 150 155 160 165 170 175 180 185 190 195 200 205]\n",
      "[5 6 8 ..., 9 5 9]\n",
      "<pandas.core.groupby.DataFrameGroupBy object at 0x000000001413C588>\n"
     ]
    }
   ],
   "source": [
    "# https://docs.scipy.org/doc/numpy/reference/generated/numpy.digitize.html\n",
    "bins = np.arange(135, 210, 5)\n",
    "print(bins)\n",
    "indices = np.digitize(cleaned.htm3, bins)\n",
    "print(indices)\n",
    "groups = cleaned.groupby(indices)\n",
    "print(groups)"
   ]
  },
  {
   "cell_type": "markdown",
   "metadata": {
    "collapsed": false
   },
   "source": [
    "Here are the number of respondents in each group:"
   ]
  },
  {
   "cell_type": "code",
   "execution_count": 26,
   "metadata": {
    "collapsed": false
   },
   "outputs": [
    {
     "name": "stdout",
     "output_type": "stream",
     "text": [
      "0 305\n",
      "1 228\n",
      "2 477\n",
      "3 2162\n",
      "4 18759\n",
      "5 45761\n",
      "6 70610\n",
      "7 72138\n",
      "8 61725\n",
      "9 49938\n",
      "10 43555\n",
      "11 20077\n",
      "12 7784\n",
      "13 1777\n",
      "14 405\n",
      "15 131\n"
     ]
    }
   ],
   "source": [
    "for i, group in groups:\n",
    "    print(i, len(group))"
   ]
  },
  {
   "cell_type": "markdown",
   "metadata": {},
   "source": [
    "Now we can compute the CDF of weight within each group."
   ]
  },
  {
   "cell_type": "code",
   "execution_count": 29,
   "metadata": {
    "collapsed": false
   },
   "outputs": [
    {
     "data": {
      "text/plain": [
       "[120.12459016393443,\n",
       " 135.78508771929825,\n",
       " 141.43396226415095,\n",
       " 146.33718778908417,\n",
       " 151.52843968228584,\n",
       " 156.3503419942746,\n",
       " 161.67421045177736,\n",
       " 166.56972746679975,\n",
       " 171.40954232482787,\n",
       " 176.54908086026674,\n",
       " 181.57596142807944,\n",
       " 186.32469990536435,\n",
       " 191.7859712230216,\n",
       " 196.6426561620709,\n",
       " 201.73827160493826,\n",
       " 210.58778625954199]"
      ]
     },
     "execution_count": 29,
     "metadata": {},
     "output_type": "execute_result"
    }
   ],
   "source": [
    "mean_heights = [group.htm3.mean() for i, group in groups]\n",
    "cdfs = [thinkstats2.Cdf(group.wtkg2) for i, group in groups]\n",
    "mean_heights\n"
   ]
  },
  {
   "cell_type": "markdown",
   "metadata": {},
   "source": [
    "And then extract the 25th, 50th, and 75th percentile from each group."
   ]
  },
  {
   "cell_type": "code",
   "execution_count": 30,
   "metadata": {
    "collapsed": false
   },
   "outputs": [
    {
     "data": {
      "image/png": "[encoded data removed]",
      "text/plain": [
       "<matplotlib.figure.Figure at 0x14126da0>"
      ]
     },
     "metadata": {},
     "output_type": "display_data"
    }
   ],
   "source": [
    "CustomColors = [\"red\",\"blue\",\"yellow\"]\n",
    "percent = [75, 50, 25]\n",
    "for i in range(len(percent)):\n",
    "    weight_percentiles = [cdf.Percentile(percent[i]) for cdf in cdfs]\n",
    "    label = '%dth' % percent[i]\n",
    "    thinkplot.Plot(mean_heights, weight_percentiles, label=label,color=CustomColors[i])\n",
    "    \n",
    "thinkplot.Config(xlabel='Height (cm)',\n",
    "                 ylabel='Weight (kg)',\n",
    "                 axis=[140, 210, 20, 200],\n",
    "                 legend=True)"
   ]
  },
  {
   "cell_type": "markdown",
   "metadata": {},
   "source": [
    "**Exercise:** Yet another option is to divide the dataset into groups and then plot the CDF for each group.  As an exercise, divide the dataset into a smaller number of groups and plot the CDF for each group."
   ]
  },
  {
   "cell_type": "code",
   "execution_count": 18,
   "metadata": {
    "collapsed": false
   },
   "outputs": [
    {
     "data": {
      "image/png": "[encoded data removed]",
      "text/plain": [
       "<matplotlib.figure.Figure at 0xc64c470>"
      ]
     },
     "metadata": {},
     "output_type": "display_data"
    }
   ],
   "source": [
    "\n",
    "import seaborn as sns\n",
    "bins = np.arange(140, 210, 10)\n",
    "indices = np.digitize(cleaned.htm3, bins)\n",
    "groups = cleaned.groupby(indices)\n",
    "cdfs = [thinkstats2.Cdf(group.wtkg2) for i, group in groups]\n",
    "\n",
    "thinkplot.PrePlot(len(cdfs))\n",
    "thinkplot.Cdfs(cdfs)\n",
    "thinkplot.Config(xlabel='Weight (kg)',\n",
    "                 ylabel='CDF',\n",
    "                 axis=[20, 200, 0, 1],\n",
    "                 legend=False)"
   ]
  },
  {
   "cell_type": "markdown",
   "metadata": {},
   "source": [
    "## Correlation"
   ]
  },
  {
   "cell_type": "markdown",
   "metadata": {},
   "source": [
    "The following function computes the covariance of two variables using NumPy's `dot` function."
   ]
  },
  {
   "cell_type": "code",
   "execution_count": 31,
   "metadata": {
    "collapsed": true
   },
   "outputs": [],
   "source": [
    "# https://docs.scipy.org/doc/numpy/reference/generated/numpy.asarray.html\n",
    "# https://docs.scipy.org/doc/numpy/reference/generated/numpy.dot.html\n",
    "def Cov(xs, ys, meanx=None, meany=None):\n",
    "    xs = np.asarray(xs)\n",
    "    ys = np.asarray(ys)\n",
    "\n",
    "    if meanx is None:\n",
    "        meanx = np.mean(xs)\n",
    "    if meany is None:\n",
    "        meany = np.mean(ys)\n",
    "\n",
    "    cov = np.dot(xs-meanx, ys-meany) / len(xs)\n",
    "    return cov"
   ]
  },
  {
   "cell_type": "markdown",
   "metadata": {},
   "source": [
    "And here's an example:"
   ]
  },
  {
   "cell_type": "code",
   "execution_count": 32,
   "metadata": {
    "collapsed": false
   },
   "outputs": [
    {
     "data": {
      "text/plain": [
       "103.33290857697517"
      ]
     },
     "execution_count": 32,
     "metadata": {},
     "output_type": "execute_result"
    }
   ],
   "source": [
    "heights, weights = cleaned.htm3, cleaned.wtkg2\n",
    "Cov(heights, weights)"
   ]
  },
  {
   "cell_type": "markdown",
   "metadata": {
    "collapsed": false
   },
   "source": [
    "Covariance is useful for some calculations, but it doesn't mean much by itself.  The coefficient of correlation is a standardized version of covariance that is easier to interpret."
   ]
  },
  {
   "cell_type": "code",
   "execution_count": 33,
   "metadata": {
    "collapsed": false
   },
   "outputs": [],
   "source": [
    "def Corr(xs, ys):\n",
    "    xs = np.asarray(xs)\n",
    "    ys = np.asarray(ys)\n",
    "\n",
    "    meanx, varx = thinkstats2.MeanVar(xs)\n",
    "    meany, vary = thinkstats2.MeanVar(ys)\n",
    "\n",
    "    corr = Cov(xs, ys, meanx, meany) / np.sqrt(varx * vary)\n",
    "    return corr"
   ]
  },
  {
   "cell_type": "markdown",
   "metadata": {},
   "source": [
    "The correlation of height and weight is about 0.51, which is a moderately strong correlation."
   ]
  },
  {
   "cell_type": "code",
   "execution_count": 34,
   "metadata": {
    "collapsed": false
   },
   "outputs": [
    {
     "data": {
      "text/plain": [
       "0.50873647897342245"
      ]
     },
     "execution_count": 34,
     "metadata": {},
     "output_type": "execute_result"
    }
   ],
   "source": [
    "Corr(heights, weights)"
   ]
  },
  {
   "cell_type": "markdown",
   "metadata": {},
   "source": [
    "NumPy provides a function that computes correlations, too:"
   ]
  },
  {
   "cell_type": "code",
   "execution_count": 35,
   "metadata": {
    "collapsed": false
   },
   "outputs": [
    {
     "data": {
      "text/plain": [
       "array([[ 1.        ,  0.50873648],\n",
       "       [ 0.50873648,  1.        ]])"
      ]
     },
     "execution_count": 35,
     "metadata": {},
     "output_type": "execute_result"
    }
   ],
   "source": [
    "np.corrcoef(heights, weights)"
   ]
  },
  {
   "cell_type": "markdown",
   "metadata": {},
   "source": [
    "The result is a matrix with self-correlations on the diagonal (which are always 1), and cross-correlations on the off-diagonals (which are always symmetric)."
   ]
  },
  {
   "cell_type": "markdown",
   "metadata": {},
   "source": [
    "Pearson's correlation is not robust in the presence of outliers, and it tends to underestimate the strength of non-linear relationships.\n",
    "\n",
    "Spearman's correlation is more robust, and it can handle non-linear relationships as long as they are monotonic.  Here's a function that computes Spearman's correlation:"
   ]
  },
  {
   "cell_type": "code",
   "execution_count": 37,
   "metadata": {
    "collapsed": false
   },
   "outputs": [],
   "source": [
    "import pandas as pd\n",
    "\n",
    "def SpearmanCorr(xs, ys):\n",
    "    xranks = pd.Series(xs).rank()\n",
    "    yranks = pd.Series(ys).rank()\n",
    "    return Corr(xranks, yranks)"
   ]
  },
  {
   "cell_type": "markdown",
   "metadata": {},
   "source": [
    "For heights and weights, Spearman's correlation is a little higher:"
   ]
  },
  {
   "cell_type": "code",
   "execution_count": 38,
   "metadata": {
    "collapsed": false
   },
   "outputs": [
    {
     "data": {
      "text/plain": [
       "0.54058462623204762"
      ]
     },
     "execution_count": 38,
     "metadata": {},
     "output_type": "execute_result"
    }
   ],
   "source": [
    "SpearmanCorr(heights, weights)"
   ]
  },
  {
   "cell_type": "markdown",
   "metadata": {},
   "source": [
    "A Pandas `Series` provides a method that computes correlations, and it offers `spearman` as one of the options."
   ]
  },
  {
   "cell_type": "code",
   "execution_count": 26,
   "metadata": {
    "collapsed": false
   },
   "outputs": [],
   "source": [
    "def SpearmanCorr(xs, ys):\n",
    "    xs = pd.Series(xs)\n",
    "    ys = pd.Series(ys)\n",
    "    return xs.corr(ys, method='spearman')"
   ]
  },
  {
   "cell_type": "markdown",
   "metadata": {},
   "source": [
    "The result is the same as for the one we wrote."
   ]
  },
  {
   "cell_type": "code",
   "execution_count": 27,
   "metadata": {
    "collapsed": false
   },
   "outputs": [
    {
     "data": {
      "text/plain": [
       "0.54058462623204573"
      ]
     },
     "execution_count": 27,
     "metadata": {},
     "output_type": "execute_result"
    }
   ],
   "source": [
    "SpearmanCorr(heights, weights)"
   ]
  },
  {
   "cell_type": "markdown",
   "metadata": {},
   "source": [
    "An alternative to Spearman's correlation is to transform one or both of the variables in a way that makes the relationship closer to linear, and the compute Pearson's correlation."
   ]
  },
  {
   "cell_type": "code",
   "execution_count": 28,
   "metadata": {
    "collapsed": false
   },
   "outputs": [
    {
     "data": {
      "text/plain": [
       "0.53172826059827105"
      ]
     },
     "execution_count": 28,
     "metadata": {},
     "output_type": "execute_result"
    }
   ],
   "source": [
    "Corr(cleaned.htm3, np.log(cleaned.wtkg2))"
   ]
  },
  {
   "cell_type": "markdown",
   "metadata": {},
   "source": [
    "## Exercises"
   ]
  },
  {
   "cell_type": "markdown",
   "metadata": {},
   "source": [
    "Using data from the NSFG, make a scatter plot of birth weight versus mother’s age. Plot percentiles of birth weight versus mother’s age. Compute Pearson’s and Spearman’s correlations. How would you characterize the relationship between these variables?"
   ]
  },
  {
   "cell_type": "code",
   "execution_count": 39,
   "metadata": {
    "collapsed": true
   },
   "outputs": [],
   "source": [
    "import first\n",
    "\n",
    "live, firsts, others = first.MakeFrames()\n",
    "live = live.dropna(subset=['agepreg', 'totalwgt_lb'])"
   ]
  },
  {
   "cell_type": "code",
   "execution_count": 40,
   "metadata": {
    "collapsed": false
   },
   "outputs": [
    {
     "name": "stdout",
     "output_type": "stream",
     "text": [
      "Corr 0.0688339703541\n",
      "SpearmanCorr 0.0946100410966\n"
     ]
    }
   ],
   "source": [
    "# Solution\n",
    "\n",
    "ages = live.agepreg\n",
    "weights = live.totalwgt_lb\n",
    "print('Corr', Corr(ages, weights))\n",
    "print('SpearmanCorr', SpearmanCorr(ages, weights))"
   ]
  },
  {
   "cell_type": "code",
   "execution_count": 41,
   "metadata": {
    "collapsed": false
   },
   "outputs": [
    {
     "data": {
      "image/png": "[encoded data removed]",
      "text/plain": [
       "<matplotlib.figure.Figure at 0x14e50278>"
      ]
     },
     "metadata": {},
     "output_type": "display_data"
    }
   ],
   "source": [
    "# Solution\n",
    "\n",
    "def BinnedPercentiles(df):\n",
    "    \"\"\"Bin the data by age and plot percentiles of weight for each bin.\n",
    "\n",
    "    df: DataFrame\n",
    "    \"\"\"\n",
    "    bins = np.arange(10, 48, 3)\n",
    "    indices = np.digitize(df.agepreg, bins)\n",
    "    groups = df.groupby(indices)\n",
    "\n",
    "    ages = [group.agepreg.mean() for i, group in groups][1:-1]\n",
    "    cdfs = [thinkstats2.Cdf(group.totalwgt_lb) for i, group in groups][1:-1]\n",
    "\n",
    "    thinkplot.PrePlot(3)\n",
    "    for percent in [75, 50, 25]:\n",
    "        weights = [cdf.Percentile(percent) for cdf in cdfs]\n",
    "        label = '%dth' % percent\n",
    "        thinkplot.Plot(ages, weights, label=label)\n",
    "\n",
    "    thinkplot.Config(xlabel=\"Mother's age (years)\",\n",
    "                     ylabel='Birth weight (lbs)',\n",
    "                     xlim=[14, 45], legend=True)\n",
    "    \n",
    "BinnedPercentiles(live)"
   ]
  },
  {
   "cell_type": "code",
   "execution_count": 44,
   "metadata": {
    "collapsed": false
   },
   "outputs": [
    {
     "data": {
      "image/png": "[encoded data removed]",
      "text/plain": [
       "<matplotlib.figure.Figure at 0xbe07128>"
      ]
     },
     "metadata": {},
     "output_type": "display_data"
    }
   ],
   "source": [
    "# Solution\n",
    "\n",
    "def ScatterPlot(ages, weights, alpha=1.0, s=20):\n",
    "    \"\"\"Make a scatter plot and save it.\n",
    "\n",
    "    ages: sequence of float\n",
    "    weights: sequence of float\n",
    "    alpha: float\n",
    "    \"\"\"\n",
    "    thinkplot.Scatter(ages, weights, alpha=alpha)\n",
    "    thinkplot.Config(xlabel='Age (years)',\n",
    "                     ylabel='Birth weight (lbs)',\n",
    "                     xlim=[10, 45],\n",
    "                     ylim=[0, 15],\n",
    "                     legend=False)\n",
    "    \n",
    "ScatterPlot(ages, weights, alpha=0.05, s=10)"
   ]
  },
  {
   "cell_type": "code",
   "execution_count": null,
   "metadata": {
    "collapsed": true
   },
   "outputs": [],
   "source": [
    "# Solution\n",
    "\n",
    "# My conclusions:\n",
    "\n",
    "# 1) The scatterplot shows a weak relationship between the variables but\n",
    "#    it is hard to see clearly.\n",
    "\n",
    "# 2) The correlations support this.  Pearson's is around 0.07, Spearman's\n",
    "#    is around 0.09.  The difference between them suggests some influence\n",
    "#    of outliers or a non-linear relationsip.\n",
    "\n",
    "# 3) Plotting percentiles of weight versus age suggests that the\n",
    "#    relationship is non-linear.  Birth weight increases more quickly\n",
    "#    in the range of mother's age from 15 to 25.  After that, the effect\n",
    "#    is weaker."
   ]
  },
  {
   "cell_type": "code",
   "execution_count": null,
   "metadata": {
    "collapsed": true
   },
   "outputs": [],
   "source": []
  }
 ],
 "metadata": {
  "kernelspec": {
   "display_name": "Python 2",
   "language": "python",
   "name": "python2"
  },
  "language_info": {
   "codemirror_mode": {
    "name": "ipython",
    "version": 2
   },
   "file_extension": ".py",
   "mimetype": "text/x-python",
   "name": "python",
   "nbconvert_exporter": "python",
   "pygments_lexer": "ipython2",
   "version": "2.7.13"
  }
 },
 "nbformat": 4,
 "nbformat_minor": 0
}
