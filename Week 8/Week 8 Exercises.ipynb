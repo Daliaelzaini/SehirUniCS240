{
 "cells": [
  {
   "cell_type": "code",
   "execution_count": 1,
   "metadata": {
    "collapsed": false
   },
   "outputs": [],
   "source": [
    "from __future__ import print_function, division\n",
    "\n",
    "%matplotlib inline\n",
    "\n",
    "import numpy as np\n",
    "\n",
    "import nsfg\n",
    "import first\n",
    "import thinkstats2\n",
    "import thinkplot"
   ]
  },
  {
   "cell_type": "markdown",
   "metadata": {},
   "source": [
    "## Examples\n",
    "\n",
    "One more time, I'll load the data from the NSFG."
   ]
  },
  {
   "cell_type": "code",
   "execution_count": 2,
   "metadata": {
    "collapsed": true
   },
   "outputs": [],
   "source": [
    "live, firsts, others = first.MakeFrames()"
   ]
  },
  {
   "cell_type": "markdown",
   "metadata": {},
   "source": [
    "And compute the distribution of birth weight for first babies and others."
   ]
  },
  {
   "cell_type": "code",
   "execution_count": 3,
   "metadata": {
    "collapsed": false
   },
   "outputs": [
    {
     "name": "stdout",
     "output_type": "stream",
     "text": [
      "Firsts 4413 4363\n",
      "Others 4735 4675\n"
     ]
    }
   ],
   "source": [
    "first_wgt = firsts.totalwgt_lb\n",
    "first_wgt_dropna = first_wgt.dropna()\n",
    "print('Firsts', len(first_wgt), len(first_wgt_dropna))\n",
    " \n",
    "other_wgt = others.totalwgt_lb\n",
    "other_wgt_dropna = other_wgt.dropna()\n",
    "print('Others', len(other_wgt), len(other_wgt_dropna))\n",
    "\n",
    "first_pmf = thinkstats2.Pmf(first_wgt_dropna, label='first')\n",
    "other_pmf = thinkstats2.Pmf(other_wgt_dropna, label='other')"
   ]
  },
  {
   "cell_type": "markdown",
   "metadata": {},
   "source": [
    "We can plot the PMFs on the same scale, but it is hard to see if there is a difference."
   ]
  },
  {
   "cell_type": "code",
   "execution_count": 4,
   "metadata": {
    "collapsed": false
   },
   "outputs": [
    {
     "data": {
      "image/png": "[encoded data removed]",
      "text/plain": [
       "<matplotlib.figure.Figure at 0xa260080>"
      ]
     },
     "metadata": {},
     "output_type": "display_data"
    }
   ],
   "source": [
    "width = 0.4 / 16\n",
    "\n",
    "# plot PMFs of birth weights for first babies and others\n",
    "thinkplot.PrePlot(2)\n",
    "thinkplot.Hist(first_pmf, align='right', width=width)\n",
    "thinkplot.Hist(other_pmf, align='left', width=width)\n",
    "thinkplot.Config(xlabel='Weight (pounds)', ylabel='PMF')"
   ]
  },
  {
   "cell_type": "markdown",
   "metadata": {},
   "source": [
    "If this is the list of scores."
   ]
  },
  {
   "cell_type": "code",
   "execution_count": 5,
   "metadata": {
    "collapsed": true
   },
   "outputs": [],
   "source": [
    "t = [55, 66, 77, 88, 99]"
   ]
  },
  {
   "cell_type": "markdown",
   "metadata": {},
   "source": [
    "`PercentileRank` computes the fraction of `scores` less than or equal to `your_score`."
   ]
  },
  {
   "cell_type": "code",
   "execution_count": 6,
   "metadata": {
    "collapsed": true
   },
   "outputs": [],
   "source": [
    "def PercentileRank(scores, your_score):\n",
    "    count = 0\n",
    "    for score in scores:\n",
    "        if score <= your_score:\n",
    "            count += 1\n",
    "\n",
    "    percentile_rank = 100.0 * count / len(scores)\n",
    "    return percentile_rank"
   ]
  },
  {
   "cell_type": "markdown",
   "metadata": {},
   "source": [
    "And you got the 88, your percentile rank is 80."
   ]
  },
  {
   "cell_type": "code",
   "execution_count": 7,
   "metadata": {
    "collapsed": false
   },
   "outputs": [
    {
     "data": {
      "text/plain": [
       "80.0"
      ]
     },
     "execution_count": 7,
     "metadata": {},
     "output_type": "execute_result"
    }
   ],
   "source": [
    "PercentileRank(t, 88)"
   ]
  },
  {
   "cell_type": "markdown",
   "metadata": {},
   "source": [
    "`Percentile` takes a percentile rank and computes the corresponding percentile. "
   ]
  },
  {
   "cell_type": "code",
   "execution_count": 8,
   "metadata": {
    "collapsed": true
   },
   "outputs": [],
   "source": [
    "def Percentile(scores, percentile_rank):\n",
    "    scores.sort()\n",
    "    for score in scores:\n",
    "        if PercentileRank(scores, score) >= percentile_rank:\n",
    "            return score"
   ]
  },
  {
   "cell_type": "markdown",
   "metadata": {},
   "source": [
    "The median is the 50th percentile, which is 77."
   ]
  },
  {
   "cell_type": "code",
   "execution_count": 9,
   "metadata": {
    "collapsed": false
   },
   "outputs": [
    {
     "data": {
      "text/plain": [
       "55"
      ]
     },
     "execution_count": 9,
     "metadata": {},
     "output_type": "execute_result"
    }
   ],
   "source": [
    "Percentile(t, 0)"
   ]
  },
  {
   "cell_type": "markdown",
   "metadata": {},
   "source": [
    "Here's a more efficient way to compute percentiles."
   ]
  },
  {
   "cell_type": "code",
   "execution_count": 10,
   "metadata": {
    "collapsed": true
   },
   "outputs": [],
   "source": [
    "def Percentile2(scores, percentile_rank):\n",
    "    scores.sort()\n",
    "    index = percentile_rank * (len(scores)-1) // 100\n",
    "    return scores[index]"
   ]
  },
  {
   "cell_type": "markdown",
   "metadata": {},
   "source": [
    "Let's hope we get the same answer."
   ]
  },
  {
   "cell_type": "code",
   "execution_count": 11,
   "metadata": {
    "collapsed": false
   },
   "outputs": [
    {
     "data": {
      "text/plain": [
       "77"
      ]
     },
     "execution_count": 11,
     "metadata": {},
     "output_type": "execute_result"
    }
   ],
   "source": [
    "Percentile2(t, 50)"
   ]
  },
  {
   "cell_type": "markdown",
   "metadata": {},
   "source": [
    "The Cumulative Distribution Function (CDF) is almost the same as `PercentileRank`.  The only difference is that the result is 0-1 instead of 0-100."
   ]
  },
  {
   "cell_type": "code",
   "execution_count": 12,
   "metadata": {
    "collapsed": true
   },
   "outputs": [],
   "source": [
    "def EvalCdf(sample, x):\n",
    "    count = 0.0\n",
    "    for value in sample:\n",
    "        if value <= x:\n",
    "            count += 1\n",
    "\n",
    "    prob = count / len(sample)\n",
    "    return prob"
   ]
  },
  {
   "cell_type": "markdown",
   "metadata": {},
   "source": [
    "In this list"
   ]
  },
  {
   "cell_type": "code",
   "execution_count": 13,
   "metadata": {
    "collapsed": true
   },
   "outputs": [],
   "source": [
    "t = [1, 2, 2, 3, 5]"
   ]
  },
  {
   "cell_type": "markdown",
   "metadata": {},
   "source": [
    "We can evaluate the CDF for various values:"
   ]
  },
  {
   "cell_type": "code",
   "execution_count": 14,
   "metadata": {
    "collapsed": false
   },
   "outputs": [
    {
     "data": {
      "text/plain": [
       "(0.0, 0.2, 0.6, 0.8, 0.8, 1.0)"
      ]
     },
     "execution_count": 14,
     "metadata": {},
     "output_type": "execute_result"
    }
   ],
   "source": [
    "EvalCdf(t, 0), EvalCdf(t, 1), EvalCdf(t, 2), EvalCdf(t, 3), EvalCdf(t, 4), EvalCdf(t, 5)"
   ]
  },
  {
   "cell_type": "markdown",
   "metadata": {},
   "source": [
    "Here's an example using real data, the distribution of pregnancy length for live births."
   ]
  },
  {
   "cell_type": "code",
   "execution_count": 15,
   "metadata": {
    "collapsed": false
   },
   "outputs": [
    {
     "data": {
      "image/png": "[encoded data removed]",
      "text/plain": [
       "<matplotlib.figure.Figure at 0xba35978>"
      ]
     },
     "metadata": {},
     "output_type": "display_data"
    }
   ],
   "source": [
    "cdf = thinkstats2.Cdf(live.prglngth, label='prglngth')\n",
    "thinkplot.Cdf(cdf)\n",
    "thinkplot.Config(xlabel='Pregnancy length (weeks)', ylabel='CDF', loc='upper left')"
   ]
  },
  {
   "cell_type": "markdown",
   "metadata": {},
   "source": [
    "`Cdf` provides `Prob`, which evaluates the CDF; that is, it computes the fraction of values less than or equal to the given value.  For example, 94% of pregnancy lengths are less than or equal to 41."
   ]
  },
  {
   "cell_type": "code",
   "execution_count": 16,
   "metadata": {
    "collapsed": false
   },
   "outputs": [
    {
     "data": {
      "text/plain": [
       "0.94064276344556186"
      ]
     },
     "execution_count": 16,
     "metadata": {},
     "output_type": "execute_result"
    }
   ],
   "source": [
    "cdf.Prob(41)"
   ]
  },
  {
   "cell_type": "markdown",
   "metadata": {
    "collapsed": true
   },
   "source": [
    "`Value` evaluates the inverse CDF; given a fraction, it computes the corresponding value.  For example, the median is the value that corresponds to 0.5."
   ]
  },
  {
   "cell_type": "code",
   "execution_count": 17,
   "metadata": {
    "collapsed": false
   },
   "outputs": [
    {
     "data": {
      "text/plain": [
       "39"
      ]
     },
     "execution_count": 17,
     "metadata": {},
     "output_type": "execute_result"
    }
   ],
   "source": [
    "cdf.Value(0.5)"
   ]
  },
  {
   "cell_type": "markdown",
   "metadata": {},
   "source": [
    "In general, CDFs are a good way to visualize distributions.  They are not as noisy as PMFs, and if you plot several CDFs on the same axes, any differences between them are apparent."
   ]
  },
  {
   "cell_type": "code",
   "execution_count": 18,
   "metadata": {
    "collapsed": false
   },
   "outputs": [
    {
     "data": {
      "image/png": "[encoded data removed]",
      "text/plain": [
       "<matplotlib.figure.Figure at 0xa260128>"
      ]
     },
     "metadata": {},
     "output_type": "display_data"
    }
   ],
   "source": [
    "first_cdf = thinkstats2.Cdf(firsts.totalwgt_lb, label='first')\n",
    "other_cdf = thinkstats2.Cdf(others.totalwgt_lb, label='other')\n",
    "\n",
    "thinkplot.PrePlot(2)\n",
    "thinkplot.Cdfs([first_cdf, other_cdf])\n",
    "thinkplot.Config(xlabel='Weight (pounds)', ylabel='CDF')"
   ]
  },
  {
   "cell_type": "markdown",
   "metadata": {},
   "source": [
    "In this example, we can see that first babies are slightly, but consistently, lighter than others.\n",
    "\n",
    "We can use the CDF of birth weight to compute percentile-based statistics."
   ]
  },
  {
   "cell_type": "code",
   "execution_count": 19,
   "metadata": {
    "collapsed": true
   },
   "outputs": [],
   "source": [
    "weights = live.totalwgt_lb\n",
    "live_cdf = thinkstats2.Cdf(weights, label='live')"
   ]
  },
  {
   "cell_type": "markdown",
   "metadata": {},
   "source": [
    "Again, the median is the 50th percentile."
   ]
  },
  {
   "cell_type": "code",
   "execution_count": 20,
   "metadata": {
    "collapsed": false
   },
   "outputs": [
    {
     "data": {
      "text/plain": [
       "7.375"
      ]
     },
     "execution_count": 20,
     "metadata": {},
     "output_type": "execute_result"
    }
   ],
   "source": [
    "median = live_cdf.Percentile(50)\n",
    "median"
   ]
  },
  {
   "cell_type": "markdown",
   "metadata": {},
   "source": [
    "The interquartile range is the interval from the 25th to 75th percentile."
   ]
  },
  {
   "cell_type": "code",
   "execution_count": 21,
   "metadata": {
    "collapsed": false
   },
   "outputs": [
    {
     "data": {
      "text/plain": [
       "(6.5, 8.125)"
      ]
     },
     "execution_count": 21,
     "metadata": {},
     "output_type": "execute_result"
    }
   ],
   "source": [
    "iqr = (live_cdf.Percentile(25), live_cdf.Percentile(75))\n",
    "iqr"
   ]
  },
  {
   "cell_type": "markdown",
   "metadata": {},
   "source": [
    "We can use the CDF to look up the percentile rank of a particular value.  For example, my second daughter was 10.2 pounds at birth, which is near the 99th percentile."
   ]
  },
  {
   "cell_type": "code",
   "execution_count": 22,
   "metadata": {
    "collapsed": false
   },
   "outputs": [
    {
     "data": {
      "text/plain": [
       "98.827174153573807"
      ]
     },
     "execution_count": 22,
     "metadata": {},
     "output_type": "execute_result"
    }
   ],
   "source": [
    "live_cdf.PercentileRank(10.2)"
   ]
  },
  {
   "cell_type": "markdown",
   "metadata": {},
   "source": [
    "If we draw a random sample from the observed weights and map each weigh to its percentile rank."
   ]
  },
  {
   "cell_type": "code",
   "execution_count": 23,
   "metadata": {
    "collapsed": true
   },
   "outputs": [],
   "source": [
    "sample = np.random.choice(weights, 100, replace=True)\n",
    "ranks = [live_cdf.PercentileRank(x) for x in sample]"
   ]
  },
  {
   "cell_type": "markdown",
   "metadata": {},
   "source": [
    "The resulting list of ranks should be approximately uniform from 0-1."
   ]
  },
  {
   "cell_type": "code",
   "execution_count": 24,
   "metadata": {
    "collapsed": false
   },
   "outputs": [
    {
     "data": {
      "image/png": "[encoded data removed]",
      "text/plain": [
       "<matplotlib.figure.Figure at 0xb7070b8>"
      ]
     },
     "metadata": {},
     "output_type": "display_data"
    }
   ],
   "source": [
    "rank_cdf = thinkstats2.Cdf(ranks)\n",
    "thinkplot.Cdf(rank_cdf)\n",
    "thinkplot.Config(xlabel='Percentile rank', ylabel='CDF')"
   ]
  },
  {
   "cell_type": "markdown",
   "metadata": {},
   "source": [
    "That observation is the basis of `Cdf.Sample`, which generates a random sample from a Cdf.  Here's an example."
   ]
  },
  {
   "cell_type": "code",
   "execution_count": 25,
   "metadata": {
    "collapsed": false
   },
   "outputs": [
    {
     "data": {
      "image/png": "[encoded data removed]",
      "text/plain": [
       "<matplotlib.figure.Figure at 0xa2602b0>"
      ]
     },
     "metadata": {},
     "output_type": "display_data"
    }
   ],
   "source": [
    "resample = live_cdf.Sample(1000)\n",
    "thinkplot.Cdf(live_cdf)\n",
    "thinkplot.Cdf(thinkstats2.Cdf(resample, label='resample'))\n",
    "thinkplot.Config(xlabel='Birth weight (pounds)', ylabel='CDF')"
   ]
  },
  {
   "cell_type": "markdown",
   "metadata": {},
   "source": [
    "This confirms that the random sample has the same distribution as the original data."
   ]
  },
  {
   "cell_type": "markdown",
   "metadata": {
    "collapsed": true
   },
   "source": [
    "## Exercises"
   ]
  },
  {
   "cell_type": "markdown",
   "metadata": {
    "collapsed": true
   },
   "source": [
    "**Exercise:** Using the NSFG data (all live births), compute the distribution of birth weights and use it to find your percentile rank. If you were a first baby, find your percentile rank in the distribution for first babies. Otherwise use the distribution for others. If you are in the 90th percentile or higher, call your mother back and apologize."
   ]
  },
  {
   "cell_type": "code",
   "execution_count": 26,
   "metadata": {
    "collapsed": true
   },
   "outputs": [],
   "source": [
    "newDf = nsfg.ReadFemResp()"
   ]
  },
  {
   "cell_type": "code",
   "execution_count": 27,
   "metadata": {
    "collapsed": false
   },
   "outputs": [
    {
     "data": {
      "text/plain": [
       "0.021862702229995628"
      ]
     },
     "execution_count": 27,
     "metadata": {},
     "output_type": "execute_result"
    }
   ],
   "source": [
    "cdf.PercentileRank(8.5)"
   ]
  },
  {
   "cell_type": "code",
   "execution_count": 28,
   "metadata": {
    "collapsed": false
   },
   "outputs": [
    {
     "data": {
      "text/plain": [
       "82.35294117647058"
      ]
     },
     "execution_count": 28,
     "metadata": {},
     "output_type": "execute_result"
    }
   ],
   "source": [
    "other_cdf.PercentileRank(8.5)"
   ]
  },
  {
   "cell_type": "markdown",
   "metadata": {
    "collapsed": true
   },
   "source": [
    "**Exercise:** The numbers generated by `numpy.random.random` are supposed to be uniform between 0 and 1; that is, every value in the range should have the same probability.\n",
    "\n",
    "Generate 1000 numbers from `numpy.random.random` and plot their PMF.  What goes wrong?\n",
    "\n",
    "Now plot the CDF. Is the distribution uniform?"
   ]
  },
  {
   "cell_type": "code",
   "execution_count": 32,
   "metadata": {
    "collapsed": false
   },
   "outputs": [
    {
     "data": {
      "text/plain": [
       "array([  1.95710420e-01,   2.52822956e-01,   5.61432036e-01,\n",
       "         5.64733174e-01,   5.95477233e-01,   7.97760816e-01,\n",
       "         5.52584424e-01,   3.34900199e-01,   4.16661196e-01,\n",
       "         9.82206067e-02,   7.85597337e-01,   5.36987606e-01,\n",
       "         9.94310119e-01,   4.00742600e-01,   1.92495857e-01,\n",
       "         5.22705482e-01,   8.51673731e-01,   7.00740942e-01,\n",
       "         5.29250120e-01,   9.32447895e-01,   1.18978367e-01,\n",
       "         3.90269734e-01,   1.82077339e-01,   9.82176858e-01,\n",
       "         6.80714572e-01,   9.92703076e-01,   5.33579466e-01,\n",
       "         5.71472440e-01,   8.61677484e-01,   7.65739258e-01,\n",
       "         2.98954826e-01,   1.43332456e-01,   8.49276653e-01,\n",
       "         9.66726999e-01,   6.63336296e-01,   1.23019172e-01,\n",
       "         7.63933671e-01,   4.56571328e-01,   5.85241314e-02,\n",
       "         7.99742605e-02,   1.77574682e-01,   8.88928262e-01,\n",
       "         5.67479104e-01,   5.22731867e-01,   6.87350810e-02,\n",
       "         8.97779195e-01,   7.33079963e-01,   2.44090699e-01,\n",
       "         2.26565537e-01,   9.17025556e-01,   5.12457681e-01,\n",
       "         8.95205135e-01,   3.73628301e-01,   3.25246548e-01,\n",
       "         8.81215015e-01,   4.86306956e-01,   1.44165906e-01,\n",
       "         9.94662168e-02,   8.21403075e-01,   7.14370525e-01,\n",
       "         5.55841755e-01,   8.48620333e-01,   6.57969783e-02,\n",
       "         2.60455528e-01,   8.13116386e-01,   1.98627519e-01,\n",
       "         1.20226858e-01,   9.41203842e-02,   8.39507627e-01,\n",
       "         9.22818055e-01,   8.61263003e-01,   2.70730203e-01,\n",
       "         1.63418408e-01,   1.38722096e-01,   5.47902887e-01,\n",
       "         7.47127513e-01,   6.75647878e-01,   4.40148200e-01,\n",
       "         7.70446250e-01,   8.56484973e-01,   2.63969209e-01,\n",
       "         2.42427681e-01,   3.69882280e-01,   8.95180883e-01,\n",
       "         8.65566222e-01,   8.61379950e-01,   6.50692180e-01,\n",
       "         5.18472979e-01,   7.68829149e-01,   8.38649886e-02,\n",
       "         4.86920809e-01,   8.87131287e-01,   4.51089206e-01,\n",
       "         2.13537818e-01,   8.74585001e-01,   6.84328933e-02,\n",
       "         3.04086581e-01,   9.03151378e-01,   8.91237435e-01,\n",
       "         1.45568570e-01,   5.66892424e-01,   9.34070383e-01,\n",
       "         2.85801013e-01,   7.96393702e-01,   9.07772747e-01,\n",
       "         2.21035288e-01,   9.77316253e-01,   4.88902861e-01,\n",
       "         9.87517384e-01,   3.52398390e-01,   8.10401900e-01,\n",
       "         1.16473091e-01,   9.52832483e-01,   1.63626822e-01,\n",
       "         4.99034756e-02,   2.15251196e-01,   5.07501767e-01,\n",
       "         9.34744098e-03,   1.38819815e-01,   9.65612833e-01,\n",
       "         1.30547875e-01,   5.53431347e-01,   5.29589086e-01,\n",
       "         3.32661573e-01,   9.33938536e-01,   4.31291874e-01,\n",
       "         8.73858940e-01,   8.79417970e-01,   5.03878121e-01,\n",
       "         6.88659845e-01,   7.00687409e-02,   4.41205518e-01,\n",
       "         4.97608751e-01,   8.16242019e-01,   6.26559451e-01,\n",
       "         2.56995284e-01,   9.29217286e-01,   4.41432189e-01,\n",
       "         4.77358987e-01,   8.37163366e-01,   7.91339035e-01,\n",
       "         6.75237768e-01,   5.85874137e-01,   9.46818359e-01,\n",
       "         4.85744078e-01,   1.84255336e-02,   1.77364120e-01,\n",
       "         3.41337788e-02,   5.97601044e-01,   9.04843608e-01,\n",
       "         3.47997907e-01,   9.59285418e-01,   4.86578503e-01,\n",
       "         5.34442184e-02,   6.85952131e-01,   9.22304345e-01,\n",
       "         8.36068940e-01,   6.76183797e-01,   2.68526239e-01,\n",
       "         6.34688064e-01,   6.56633253e-01,   1.29393470e-01,\n",
       "         3.06380958e-02,   6.49366229e-01,   3.70016562e-01,\n",
       "         3.28413818e-01,   9.86084208e-01,   8.07961753e-01,\n",
       "         4.21038881e-02,   3.27310682e-01,   1.73761743e-01,\n",
       "         5.82939057e-01,   4.71626585e-01,   7.30536580e-01,\n",
       "         9.37028246e-01,   8.64158069e-01,   5.36426874e-01,\n",
       "         2.91887216e-01,   3.34524409e-01,   3.60318360e-01,\n",
       "         7.98511671e-01,   7.86287814e-01,   4.66796546e-01,\n",
       "         2.07550721e-01,   7.72084997e-01,   6.17815113e-01,\n",
       "         6.96434290e-01,   1.02298056e-01,   7.32468710e-01,\n",
       "         8.07380996e-01,   7.03297763e-01,   6.91013322e-01,\n",
       "         7.55749479e-01,   6.42117158e-01,   8.09540035e-01,\n",
       "         9.42041559e-01,   7.52942204e-01,   9.07074022e-01,\n",
       "         9.64146850e-01,   4.66678564e-01,   6.55749408e-01,\n",
       "         6.48762808e-01,   9.69931493e-01,   3.34363011e-01,\n",
       "         3.78034728e-01,   5.43418245e-01,   8.79861704e-01,\n",
       "         5.52430778e-01,   3.70052263e-02,   2.91265673e-02,\n",
       "         5.18204087e-01,   9.76264218e-01,   7.78362028e-01,\n",
       "         4.22237246e-01,   5.77146279e-01,   2.09027091e-01,\n",
       "         7.12760764e-01,   9.93235879e-02,   3.85902611e-01,\n",
       "         5.30335480e-01,   3.45798869e-01,   1.16849748e-01,\n",
       "         7.34342937e-01,   4.64283061e-01,   2.16210170e-01,\n",
       "         2.68858199e-01,   1.58442998e-01,   9.64309939e-01,\n",
       "         9.87389889e-01,   8.09442593e-01,   6.55814174e-01,\n",
       "         1.44384150e-01,   1.38674873e-01,   6.70026521e-01,\n",
       "         3.35490551e-01,   9.74732105e-01,   2.99826200e-02,\n",
       "         8.00109364e-01,   5.85036240e-01,   5.62996422e-01,\n",
       "         3.38731567e-02,   6.38150591e-01,   6.42894086e-01,\n",
       "         3.84808321e-01,   1.20060311e-01,   8.84585771e-01,\n",
       "         2.69253660e-01,   8.20438189e-01,   8.87990353e-01,\n",
       "         3.67319353e-02,   1.62591192e-01,   4.97867040e-01,\n",
       "         5.87031959e-01,   1.10397186e-01,   5.74907167e-02,\n",
       "         3.32943157e-01,   7.05929599e-01,   7.64962431e-01,\n",
       "         4.16775413e-02,   3.78689275e-01,   3.72600990e-01,\n",
       "         6.92573831e-01,   5.19823766e-01,   2.06266835e-01,\n",
       "         8.46733108e-03,   3.22838184e-01,   4.02554223e-01,\n",
       "         6.33777874e-01,   5.47108989e-01,   8.63505048e-01,\n",
       "         1.60553888e-01,   7.19394986e-01,   3.86726508e-01,\n",
       "         3.53635697e-01,   5.48507799e-01,   6.64582104e-01,\n",
       "         9.05832866e-01,   8.35826374e-01,   3.24552749e-01,\n",
       "         3.75530004e-01,   5.73527070e-01,   9.35009634e-01,\n",
       "         7.55621495e-01,   1.00310283e-01,   4.49878085e-01,\n",
       "         9.40904600e-01,   9.61693227e-01,   2.89813672e-01,\n",
       "         9.66928262e-01,   4.45469841e-01,   9.05452402e-01,\n",
       "         1.74884022e-01,   2.43196417e-01,   4.30781275e-01,\n",
       "         6.88145859e-01,   9.80150489e-01,   5.00249488e-01,\n",
       "         7.70167107e-01,   5.01283358e-01,   2.07948721e-01,\n",
       "         3.82746697e-01,   5.97975310e-01,   5.70902697e-01,\n",
       "         1.48372105e-01,   6.68454262e-01,   4.09725941e-01,\n",
       "         6.92448719e-01,   5.48532754e-01,   4.38598992e-01,\n",
       "         9.20602367e-01,   9.23835490e-01,   2.09149472e-01,\n",
       "         5.78606417e-01,   8.63983072e-02,   5.21714849e-01,\n",
       "         7.40124456e-01,   5.07159370e-01,   6.42697329e-01,\n",
       "         6.61699746e-01,   9.88962831e-01,   4.58754958e-01,\n",
       "         2.35886681e-01,   1.77367318e-01,   9.10289243e-01,\n",
       "         7.39481141e-01,   1.39581233e-01,   4.63306684e-01,\n",
       "         8.93708881e-02,   3.63205293e-01,   4.00188265e-01,\n",
       "         1.69902501e-01,   5.35549772e-01,   6.14310413e-01,\n",
       "         1.19838259e-01,   7.40603225e-01,   4.02016528e-01,\n",
       "         1.68815122e-01,   1.68880826e-01,   1.42398734e-01,\n",
       "         1.25487306e-01,   9.62130195e-01,   5.98003202e-01,\n",
       "         6.44209592e-01,   4.38546857e-01,   9.31013300e-01,\n",
       "         3.39313716e-01,   8.21980360e-01,   3.41210640e-01,\n",
       "         9.00823182e-01,   6.17032206e-01,   5.40626797e-01,\n",
       "         4.17413195e-01,   9.36820228e-01,   4.33616123e-01,\n",
       "         5.01800315e-02,   4.56870949e-01,   7.17938482e-01,\n",
       "         8.53244413e-01,   6.52372253e-01,   5.03464408e-02,\n",
       "         1.25144034e-01,   6.89096608e-01,   9.41648125e-01,\n",
       "         8.18443795e-01,   7.41039181e-01,   9.91096065e-01,\n",
       "         2.53806868e-01,   4.85085098e-01,   9.01096974e-01,\n",
       "         8.12635027e-01,   4.62638248e-01,   9.74447396e-02,\n",
       "         2.99477742e-01,   8.53631162e-02,   9.88005118e-01,\n",
       "         4.60904187e-01,   7.88688173e-01,   4.76761974e-01,\n",
       "         7.19176507e-01,   2.39326439e-01,   3.57715357e-01,\n",
       "         9.25944457e-01,   4.63154438e-01,   3.33550224e-01,\n",
       "         1.39864606e-02,   8.67406522e-01,   6.73737691e-01,\n",
       "         1.06748998e-01,   5.18474754e-01,   1.13009854e-01,\n",
       "         4.49260174e-01,   4.34790494e-02,   6.93700977e-01,\n",
       "         5.41209082e-01,   4.38484180e-01,   1.23762047e-01,\n",
       "         1.27062316e-01,   7.18755507e-01,   5.09346932e-02,\n",
       "         4.82596847e-01,   4.13501708e-01,   8.95683635e-01,\n",
       "         4.71714365e-01,   1.78076251e-01,   7.36366221e-02,\n",
       "         3.51494202e-01,   8.67526260e-01,   2.27496165e-01,\n",
       "         6.83543642e-01,   4.22499640e-01,   8.92949718e-01,\n",
       "         7.92748544e-01,   3.73656872e-01,   9.23980645e-01,\n",
       "         4.12332755e-01,   2.48885004e-01,   3.20008794e-01,\n",
       "         1.60948907e-01,   3.97634770e-01,   5.42696382e-01,\n",
       "         5.78447479e-01,   5.57056307e-01,   9.58803299e-01,\n",
       "         5.06834945e-01,   8.91445633e-01,   5.09543990e-02,\n",
       "         5.00151927e-01,   7.62964888e-01,   1.27734978e-01,\n",
       "         8.16662412e-01,   3.20541047e-01,   6.30889146e-01,\n",
       "         6.65902339e-01,   9.06222325e-01,   4.76329367e-02,\n",
       "         8.74411577e-01,   8.22845275e-01,   1.41513238e-01,\n",
       "         7.85623300e-01,   8.69269396e-01,   7.81311454e-01,\n",
       "         3.96946991e-01,   4.82507739e-01,   9.64735332e-01,\n",
       "         1.65072228e-01,   6.71050370e-01,   7.08486392e-01,\n",
       "         5.95706203e-01,   3.77851345e-01,   5.10025971e-01,\n",
       "         6.40994539e-02,   7.29141462e-01,   7.60424001e-01,\n",
       "         3.78126874e-02,   7.36848664e-01,   9.44218302e-01,\n",
       "         1.26079107e-01,   5.88385308e-01,   3.43117884e-02,\n",
       "         2.89479185e-02,   9.73761526e-01,   3.00159975e-01,\n",
       "         1.38864108e-01,   5.22211851e-01,   5.25539094e-03,\n",
       "         8.86740303e-01,   7.59439287e-01,   7.44496191e-01,\n",
       "         6.13849880e-01,   7.40827675e-01,   3.89602259e-01,\n",
       "         3.72290963e-01,   9.71253192e-01,   4.44064344e-01,\n",
       "         3.33034827e-01,   2.26045379e-01,   6.34044403e-01,\n",
       "         1.46958904e-01,   5.10126518e-01,   5.38290307e-01,\n",
       "         3.37611415e-01,   1.11691354e-01,   6.47448896e-01,\n",
       "         8.92964502e-01,   8.76649173e-01,   2.13950480e-01,\n",
       "         1.07703331e-01,   3.38380169e-01,   4.36807000e-01,\n",
       "         4.64327444e-01,   7.47548292e-01,   3.11483615e-01,\n",
       "         8.59943004e-01,   3.90271009e-01,   9.89091542e-01,\n",
       "         6.59570584e-01,   5.90862493e-01,   2.48789171e-01,\n",
       "         2.45037793e-01,   3.54637158e-01,   7.41788760e-01,\n",
       "         1.70739882e-01,   9.97322276e-01,   4.08071068e-02,\n",
       "         3.96937894e-01,   8.53973353e-01,   9.82076031e-01,\n",
       "         3.42220676e-01,   6.25375829e-01,   7.38347457e-01,\n",
       "         2.04401450e-01,   2.85304603e-01,   3.38149861e-01,\n",
       "         1.50146615e-01,   8.02686945e-01,   1.03131222e-01,\n",
       "         2.90190619e-01,   6.39210173e-01,   2.87286612e-01,\n",
       "         1.07995679e-01,   1.24901170e-01,   3.67831275e-01,\n",
       "         3.51955202e-01,   3.28973863e-01,   4.71371174e-01,\n",
       "         2.91637101e-01,   8.05466157e-01,   4.49729535e-01,\n",
       "         2.33734888e-01,   4.79736661e-01,   9.72545573e-01,\n",
       "         7.05544335e-01,   3.67701663e-01,   3.46197878e-01,\n",
       "         3.57612803e-01,   4.05842186e-01,   3.28486815e-01,\n",
       "         1.10107701e-01,   6.44135449e-02,   3.67269604e-01,\n",
       "         7.39906769e-01,   6.71466952e-01,   1.76183588e-01,\n",
       "         1.20960147e-01,   8.16860192e-01,   3.51174551e-01,\n",
       "         3.05317789e-01,   9.02736595e-03,   5.22699298e-01,\n",
       "         5.95050741e-02,   3.71311777e-01,   9.51967165e-01,\n",
       "         4.92585857e-01,   4.35969222e-01,   3.06008994e-01,\n",
       "         8.09762009e-01,   8.74889820e-01,   8.23558234e-01,\n",
       "         4.97647224e-01,   3.92992020e-01,   8.02399329e-01,\n",
       "         5.78675870e-02,   3.07710542e-01,   4.73366868e-01,\n",
       "         9.02667742e-01,   1.24513950e-01,   4.59369611e-01,\n",
       "         1.01450783e-01,   2.68236118e-01,   1.45380926e-01,\n",
       "         8.75732222e-01,   7.33865919e-01,   5.58910430e-01,\n",
       "         9.05418902e-01,   8.28715558e-01,   6.35181929e-01,\n",
       "         7.00603708e-01,   8.85719264e-01,   7.79591084e-01,\n",
       "         5.15524527e-01,   3.56416538e-01,   3.84102066e-01,\n",
       "         8.62113741e-01,   4.45532709e-01,   5.78867493e-01,\n",
       "         1.57206347e-01,   2.05291001e-01,   6.46936106e-01,\n",
       "         1.72738635e-01,   4.06044760e-02,   1.73430581e-02,\n",
       "         6.51940823e-01,   6.66921389e-01,   4.49046119e-01,\n",
       "         5.42497529e-02,   5.89772357e-01,   9.11907997e-01,\n",
       "         7.90971784e-01,   7.24890101e-01,   3.50709997e-02,\n",
       "         1.79949877e-01,   7.68507260e-01,   1.59532070e-01,\n",
       "         3.82997598e-01,   4.33641395e-01,   3.11536814e-01,\n",
       "         6.76516740e-01,   2.61876936e-01,   4.13996586e-01,\n",
       "         8.22680686e-01,   5.82679550e-01,   1.32149597e-01,\n",
       "         4.97961247e-01,   2.41679161e-01,   1.77278140e-01,\n",
       "         8.19762307e-01,   8.82261307e-01,   7.24880353e-01,\n",
       "         3.06449999e-02,   8.07022159e-01,   6.11955969e-01,\n",
       "         3.62441645e-01,   3.06319795e-01,   5.19966541e-01,\n",
       "         8.00194415e-02,   3.02384187e-01,   2.00980148e-01,\n",
       "         2.52589346e-01,   5.99934952e-01,   7.73203451e-01,\n",
       "         5.36416860e-01,   1.48980491e-01,   3.08521231e-01,\n",
       "         3.70443642e-01,   2.24951627e-01,   3.69259645e-01,\n",
       "         7.04125709e-01,   1.78221401e-01,   7.84626195e-01,\n",
       "         6.29814344e-01,   6.95031232e-01,   2.84901912e-01,\n",
       "         2.74872077e-01,   6.34349783e-01,   3.25669006e-01,\n",
       "         3.85666636e-01,   1.82127962e-01,   6.24506017e-01,\n",
       "         2.50933757e-01,   7.17716519e-01,   4.24375487e-01,\n",
       "         2.91153883e-01,   7.32073402e-01,   4.38309619e-02,\n",
       "         4.16390182e-01,   3.59900421e-01,   2.57921219e-01,\n",
       "         3.86138805e-01,   3.94116456e-01,   1.27192383e-01,\n",
       "         4.59581046e-03,   5.79178559e-01,   9.33008373e-01,\n",
       "         7.57176714e-01,   3.65200190e-01,   5.66529206e-01,\n",
       "         2.92490170e-01,   7.34072197e-01,   1.97504387e-01,\n",
       "         5.19746579e-01,   3.68922805e-01,   1.83058529e-02,\n",
       "         3.62587850e-01,   8.33912077e-01,   2.16934693e-01,\n",
       "         4.75857075e-02,   5.83382583e-01,   9.08328851e-01,\n",
       "         1.12282109e-01,   6.07766418e-02,   4.42798106e-01,\n",
       "         8.78232487e-01,   6.08241309e-01,   9.09103256e-01,\n",
       "         4.58677002e-01,   6.79291898e-01,   9.73043197e-01,\n",
       "         6.01308944e-01,   4.28966058e-04,   1.22082547e-02,\n",
       "         3.82526642e-01,   8.42184289e-01,   6.37056337e-01,\n",
       "         3.29273947e-01,   5.70490237e-01,   1.23029347e-01,\n",
       "         8.96994018e-01,   9.61186820e-01,   5.73798592e-01,\n",
       "         9.76387939e-01,   4.69918627e-01,   9.46798175e-01,\n",
       "         6.89530772e-02,   9.12287722e-01,   7.68570010e-01,\n",
       "         4.85453389e-01,   6.05286075e-01,   4.73012433e-01,\n",
       "         7.27339392e-01,   1.16656289e-01,   3.48637620e-01,\n",
       "         3.49422699e-01,   4.05281033e-01,   4.75009003e-02,\n",
       "         5.66661078e-01,   4.59386538e-02,   4.63885489e-01,\n",
       "         5.71386959e-01,   2.56848851e-01,   1.95238151e-01,\n",
       "         2.17138503e-01,   9.03180453e-01,   3.99759272e-01,\n",
       "         1.63532906e-01,   6.73478417e-01,   8.63603879e-01,\n",
       "         7.60734206e-02,   8.11792815e-01,   5.78522220e-01,\n",
       "         3.76876575e-02,   5.12520952e-01,   3.48485201e-01,\n",
       "         4.57217175e-01,   8.64778067e-01,   2.50454250e-01,\n",
       "         8.89383195e-01,   8.99526361e-01,   3.35299322e-01,\n",
       "         4.46496517e-01,   2.02492161e-01,   1.79244075e-01,\n",
       "         4.51498549e-01,   5.47836237e-01,   4.05410862e-01,\n",
       "         6.45059953e-01,   9.69810349e-01,   8.06769919e-01,\n",
       "         3.48704032e-01,   8.60756233e-01,   3.88811597e-01,\n",
       "         8.27731817e-01,   2.58649610e-01,   7.80369381e-01,\n",
       "         5.59989994e-01,   1.20641547e-01,   2.81251679e-01,\n",
       "         9.75387369e-01,   1.96194160e-01,   9.45614886e-01,\n",
       "         5.95577508e-01,   3.71429924e-01,   7.61790166e-01,\n",
       "         1.74569426e-01,   3.76884161e-01,   3.31986279e-03,\n",
       "         4.76303953e-01,   2.84035342e-01,   4.75885163e-01,\n",
       "         6.98607204e-01,   6.91293245e-01,   5.23452731e-01,\n",
       "         7.98685922e-02,   2.06698161e-01,   8.93889679e-01,\n",
       "         7.42721950e-01,   2.90748459e-01,   6.77104139e-01,\n",
       "         2.07477179e-02,   6.65337940e-01,   4.11562078e-01,\n",
       "         8.05871368e-01,   5.69003646e-01,   4.85650021e-01,\n",
       "         8.14585669e-02,   5.35560838e-01,   5.54737512e-01,\n",
       "         3.22865148e-01,   9.24805128e-01,   8.94575880e-01,\n",
       "         8.37561478e-01,   5.62545843e-02,   8.13418323e-02,\n",
       "         8.16664649e-01,   1.67912373e-01,   7.03252594e-01,\n",
       "         4.25017024e-01,   8.97477904e-01,   9.56489414e-01,\n",
       "         8.26884423e-01,   3.94121921e-01,   4.92117004e-01,\n",
       "         2.27939753e-01,   8.70677825e-01,   8.10727577e-01,\n",
       "         7.59078819e-01,   4.92084840e-01,   1.90537130e-01,\n",
       "         2.64337224e-01,   7.66910592e-03,   7.18217608e-01,\n",
       "         4.62125950e-01,   8.78470882e-01,   6.82593312e-01,\n",
       "         6.76510943e-01,   4.09460985e-01,   1.54483694e-01,\n",
       "         7.94271434e-01,   8.25541822e-01,   6.11053318e-01,\n",
       "         3.29655570e-01,   8.87287524e-01,   7.04787710e-01,\n",
       "         4.96558558e-02,   8.22610639e-01,   7.42770068e-01,\n",
       "         9.37040596e-01,   5.64108465e-01,   2.85062928e-03,\n",
       "         6.11940775e-01,   9.97251415e-01,   9.86145659e-01,\n",
       "         5.41224926e-01,   7.29163976e-01,   5.85522573e-02,\n",
       "         7.81187243e-01,   1.19523880e-01,   7.26915056e-01,\n",
       "         1.50016144e-01,   9.43584926e-01,   3.92226787e-02,\n",
       "         6.14601312e-01,   2.49476806e-01,   2.39904273e-01,\n",
       "         5.28311500e-01,   4.48315025e-01,   3.16062010e-01,\n",
       "         1.63955386e-02,   5.03487905e-01,   3.12747386e-02,\n",
       "         6.25723741e-01,   3.51831895e-01,   9.76009013e-01,\n",
       "         2.38771708e-03,   6.27453830e-01,   1.54452140e-02,\n",
       "         5.74982529e-01,   4.83260844e-01,   9.44963966e-01,\n",
       "         3.46876132e-01,   8.53782461e-01,   1.90484527e-01,\n",
       "         4.19706314e-01,   1.12865149e-01,   8.47911547e-01,\n",
       "         7.01171089e-01,   6.45884185e-01,   2.90387857e-01,\n",
       "         2.29365334e-01,   2.49878508e-01,   4.70786260e-01,\n",
       "         3.01644444e-01,   7.98279661e-02,   5.61625049e-01,\n",
       "         7.43849958e-01,   8.72581013e-01,   8.60022254e-01,\n",
       "         3.43587271e-01,   5.43989170e-01,   9.68198351e-01,\n",
       "         6.71380709e-01,   3.56848831e-01,   8.93157378e-01,\n",
       "         3.55775209e-02,   8.79408132e-01,   4.82876806e-01,\n",
       "         6.66991834e-01,   4.34291136e-03,   4.01555786e-01,\n",
       "         8.14680544e-01,   1.81280478e-01,   1.50572625e-01,\n",
       "         6.99346926e-01,   5.69023064e-01,   8.43450491e-01,\n",
       "         1.31883363e-01,   6.59750544e-01,   2.72103491e-01,\n",
       "         8.47603455e-01,   1.42425378e-01,   1.78896788e-01,\n",
       "         6.15278651e-01,   9.84337474e-01,   6.53882875e-01,\n",
       "         5.82899140e-01,   6.52878199e-01,   1.95500957e-01,\n",
       "         9.86417033e-01,   6.40354407e-01,   1.45525886e-01,\n",
       "         3.57005796e-01,   4.75956965e-01,   9.31661131e-01,\n",
       "         9.99872099e-01,   4.05167276e-01,   5.81140684e-01,\n",
       "         5.90507297e-01,   3.33754505e-01,   5.58150270e-01,\n",
       "         3.45993397e-01,   5.99301287e-01,   6.16542824e-01,\n",
       "         6.78172949e-01,   2.02481206e-01,   8.02887676e-01,\n",
       "         6.88361722e-01,   5.37552178e-01,   5.27334604e-01,\n",
       "         3.05533035e-01,   6.96093353e-01,   5.10131031e-02,\n",
       "         2.09295829e-01,   8.34265303e-02,   5.25446157e-01,\n",
       "         9.70715384e-01,   1.49324624e-01,   6.87314055e-01,\n",
       "         5.72778300e-01,   8.19757859e-01,   8.81325349e-01,\n",
       "         8.86246987e-01,   5.89066830e-01,   9.20367222e-01,\n",
       "         2.48886418e-01,   5.41640825e-01,   6.14402292e-01,\n",
       "         1.45812129e-01,   9.40431941e-01,   9.87677325e-01,\n",
       "         2.70744429e-01,   7.04267951e-01,   8.80607317e-01,\n",
       "         5.49053346e-01,   9.56436768e-01,   1.35871395e-01,\n",
       "         8.97991389e-01,   9.20648245e-01,   8.25641551e-01,\n",
       "         6.66400954e-01,   9.16573414e-01,   5.75092626e-01,\n",
       "         5.90914519e-01,   5.74446077e-01,   6.25808231e-01,\n",
       "         6.93786712e-01,   5.34677923e-01,   1.60853067e-01,\n",
       "         7.65317635e-01,   1.46004120e-01,   3.65740553e-01,\n",
       "         8.86767207e-01,   9.05431190e-01,   9.86350775e-01,\n",
       "         9.66706711e-01,   3.33491586e-01,   2.92867373e-01,\n",
       "         3.14303332e-01,   6.69079700e-01,   3.73930283e-01,\n",
       "         8.83382979e-01,   5.33278489e-01,   7.51999556e-01,\n",
       "         5.00649536e-01,   3.83730758e-01,   3.19782777e-01,\n",
       "         6.40673975e-02,   7.60801633e-01,   9.67321816e-01,\n",
       "         7.78130625e-01,   3.01819457e-01,   5.85692878e-01,\n",
       "         6.69314646e-01,   1.13064951e-01,   1.79237008e-01,\n",
       "         5.13533547e-01,   3.15580191e-01,   2.40347408e-01,\n",
       "         5.78857907e-01,   5.58279628e-02,   5.99938895e-01,\n",
       "         6.10330368e-01])"
      ]
     },
     "execution_count": 32,
     "metadata": {},
     "output_type": "execute_result"
    }
   ],
   "source": [
    "t = np.random.random(1000)\n",
    "#np.random.randn(4, 2)\n",
    "t"
   ]
  },
  {
   "cell_type": "code",
   "execution_count": 30,
   "metadata": {
    "collapsed": false
   },
   "outputs": [
    {
     "data": {
      "image/png": "[encoded data removed]",
      "text/plain": [
       "<matplotlib.figure.Figure at 0x1f109588>"
      ]
     },
     "metadata": {},
     "output_type": "display_data"
    }
   ],
   "source": [
    "\n",
    "pmf = thinkstats2.Pmf(t)\n",
    "thinkplot.Pmf(pmf, linewidth=0.1)\n",
    "thinkplot.Config(xlabel='Random variate', ylabel='PMF')"
   ]
  },
  {
   "cell_type": "code",
   "execution_count": 31,
   "metadata": {
    "collapsed": false
   },
   "outputs": [
    {
     "data": {
      "image/png": "[encoded data removed]",
      "text/plain": [
       "<matplotlib.figure.Figure at 0xb641c50>"
      ]
     },
     "metadata": {},
     "output_type": "display_data"
    }
   ],
   "source": [
    "cdf = thinkstats2.Cdf(t)\n",
    "thinkplot.Cdf(cdf)\n",
    "thinkplot.Config(xlabel='Random variate', ylabel='CDF')"
   ]
  },
  {
   "cell_type": "code",
   "execution_count": null,
   "metadata": {
    "collapsed": true
   },
   "outputs": [],
   "source": []
  }
 ],
 "metadata": {
  "kernelspec": {
   "display_name": "Python 2",
   "language": "python",
   "name": "python2"
  },
  "language_info": {
   "codemirror_mode": {
    "name": "ipython",
    "version": 2
   },
   "file_extension": ".py",
   "mimetype": "text/x-python",
   "name": "python",
   "nbconvert_exporter": "python",
   "pygments_lexer": "ipython2",
   "version": "2.7.13"
  }
 },
 "nbformat": 4,
 "nbformat_minor": 0
}
