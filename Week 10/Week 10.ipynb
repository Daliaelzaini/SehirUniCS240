{
 "cells": [
  {
   "cell_type": "markdown",
   "metadata": {},
   "source": [
    "## Probability density functions"
   ]
  },
  {
   "cell_type": "code",
   "execution_count": 1,
   "metadata": {
    "collapsed": false
   },
   "outputs": [],
   "source": [
    "from __future__ import print_function, division\n",
    "\n",
    "%matplotlib inline\n",
    "\n",
    "import numpy as np\n",
    "\n",
    "import brfss\n",
    "\n",
    "import thinkstats2\n",
    "import thinkplot"
   ]
  },
  {
   "cell_type": "markdown",
   "metadata": {},
   "source": [
    "I'll start with the data from the BRFSS again."
   ]
  },
  {
   "cell_type": "code",
   "execution_count": 2,
   "metadata": {
    "collapsed": false
   },
   "outputs": [],
   "source": [
    "df = brfss.ReadBrfss()"
   ]
  },
  {
   "cell_type": "code",
   "execution_count": 3,
   "metadata": {
    "collapsed": false
   },
   "outputs": [
    {
     "data": {
      "text/html": [
       "<div>\n",
       "<table border=\"1\" class=\"dataframe\">\n",
       "  <thead>\n",
       "    <tr style=\"text-align: right;\">\n",
       "      <th></th>\n",
       "      <th>age</th>\n",
       "      <th>sex</th>\n",
       "      <th>wtyrago</th>\n",
       "      <th>finalwt</th>\n",
       "      <th>wtkg2</th>\n",
       "      <th>htm3</th>\n",
       "    </tr>\n",
       "  </thead>\n",
       "  <tbody>\n",
       "    <tr>\n",
       "      <th>0</th>\n",
       "      <td>82.0</td>\n",
       "      <td>2</td>\n",
       "      <td>76.363636</td>\n",
       "      <td>185.870345</td>\n",
       "      <td>70.91</td>\n",
       "      <td>157.0</td>\n",
       "    </tr>\n",
       "    <tr>\n",
       "      <th>1</th>\n",
       "      <td>65.0</td>\n",
       "      <td>2</td>\n",
       "      <td>72.727273</td>\n",
       "      <td>126.603027</td>\n",
       "      <td>72.73</td>\n",
       "      <td>163.0</td>\n",
       "    </tr>\n",
       "    <tr>\n",
       "      <th>2</th>\n",
       "      <td>48.0</td>\n",
       "      <td>2</td>\n",
       "      <td>NaN</td>\n",
       "      <td>181.063210</td>\n",
       "      <td>NaN</td>\n",
       "      <td>165.0</td>\n",
       "    </tr>\n",
       "    <tr>\n",
       "      <th>3</th>\n",
       "      <td>61.0</td>\n",
       "      <td>1</td>\n",
       "      <td>73.636364</td>\n",
       "      <td>517.926275</td>\n",
       "      <td>73.64</td>\n",
       "      <td>170.0</td>\n",
       "    </tr>\n",
       "    <tr>\n",
       "      <th>4</th>\n",
       "      <td>26.0</td>\n",
       "      <td>1</td>\n",
       "      <td>88.636364</td>\n",
       "      <td>1252.624630</td>\n",
       "      <td>88.64</td>\n",
       "      <td>185.0</td>\n",
       "    </tr>\n",
       "    <tr>\n",
       "      <th>5</th>\n",
       "      <td>42.0</td>\n",
       "      <td>1</td>\n",
       "      <td>118.181818</td>\n",
       "      <td>415.161314</td>\n",
       "      <td>109.09</td>\n",
       "      <td>183.0</td>\n",
       "    </tr>\n",
       "    <tr>\n",
       "      <th>6</th>\n",
       "      <td>40.0</td>\n",
       "      <td>2</td>\n",
       "      <td>50.000000</td>\n",
       "      <td>422.810541</td>\n",
       "      <td>50.00</td>\n",
       "      <td>157.0</td>\n",
       "    </tr>\n",
       "    <tr>\n",
       "      <th>7</th>\n",
       "      <td>24.0</td>\n",
       "      <td>2</td>\n",
       "      <td>131.818182</td>\n",
       "      <td>1280.585980</td>\n",
       "      <td>122.73</td>\n",
       "      <td>178.0</td>\n",
       "    </tr>\n",
       "    <tr>\n",
       "      <th>8</th>\n",
       "      <td>37.0</td>\n",
       "      <td>1</td>\n",
       "      <td>87.727273</td>\n",
       "      <td>1245.060440</td>\n",
       "      <td>90.00</td>\n",
       "      <td>178.0</td>\n",
       "    </tr>\n",
       "    <tr>\n",
       "      <th>9</th>\n",
       "      <td>65.0</td>\n",
       "      <td>1</td>\n",
       "      <td>77.272727</td>\n",
       "      <td>382.738158</td>\n",
       "      <td>77.27</td>\n",
       "      <td>173.0</td>\n",
       "    </tr>\n",
       "    <tr>\n",
       "      <th>10</th>\n",
       "      <td>28.0</td>\n",
       "      <td>1</td>\n",
       "      <td>52.272727</td>\n",
       "      <td>3131.561570</td>\n",
       "      <td>63.64</td>\n",
       "      <td>170.0</td>\n",
       "    </tr>\n",
       "    <tr>\n",
       "      <th>11</th>\n",
       "      <td>68.0</td>\n",
       "      <td>2</td>\n",
       "      <td>86.363636</td>\n",
       "      <td>506.412109</td>\n",
       "      <td>78.18</td>\n",
       "      <td>168.0</td>\n",
       "    </tr>\n",
       "    <tr>\n",
       "      <th>12</th>\n",
       "      <td>40.0</td>\n",
       "      <td>2</td>\n",
       "      <td>62.727273</td>\n",
       "      <td>422.810541</td>\n",
       "      <td>62.73</td>\n",
       "      <td>175.0</td>\n",
       "    </tr>\n",
       "    <tr>\n",
       "      <th>13</th>\n",
       "      <td>49.0</td>\n",
       "      <td>1</td>\n",
       "      <td>127.272727</td>\n",
       "      <td>274.170333</td>\n",
       "      <td>127.27</td>\n",
       "      <td>183.0</td>\n",
       "    </tr>\n",
       "    <tr>\n",
       "      <th>14</th>\n",
       "      <td>24.0</td>\n",
       "      <td>2</td>\n",
       "      <td>95.454545</td>\n",
       "      <td>2561.171960</td>\n",
       "      <td>95.45</td>\n",
       "      <td>175.0</td>\n",
       "    </tr>\n",
       "    <tr>\n",
       "      <th>15</th>\n",
       "      <td>49.0</td>\n",
       "      <td>2</td>\n",
       "      <td>88.636364</td>\n",
       "      <td>181.063210</td>\n",
       "      <td>88.64</td>\n",
       "      <td>157.0</td>\n",
       "    </tr>\n",
       "    <tr>\n",
       "      <th>16</th>\n",
       "      <td>36.0</td>\n",
       "      <td>2</td>\n",
       "      <td>113.636364</td>\n",
       "      <td>211.405271</td>\n",
       "      <td>90.91</td>\n",
       "      <td>168.0</td>\n",
       "    </tr>\n",
       "    <tr>\n",
       "      <th>17</th>\n",
       "      <td>48.0</td>\n",
       "      <td>2</td>\n",
       "      <td>NaN</td>\n",
       "      <td>181.063210</td>\n",
       "      <td>50.00</td>\n",
       "      <td>155.0</td>\n",
       "    </tr>\n",
       "    <tr>\n",
       "      <th>18</th>\n",
       "      <td>65.0</td>\n",
       "      <td>2</td>\n",
       "      <td>100.000000</td>\n",
       "      <td>253.206055</td>\n",
       "      <td>100.00</td>\n",
       "      <td>160.0</td>\n",
       "    </tr>\n",
       "    <tr>\n",
       "      <th>19</th>\n",
       "      <td>75.0</td>\n",
       "      <td>2</td>\n",
       "      <td>72.727273</td>\n",
       "      <td>185.870345</td>\n",
       "      <td>72.73</td>\n",
       "      <td>165.0</td>\n",
       "    </tr>\n",
       "    <tr>\n",
       "      <th>20</th>\n",
       "      <td>67.0</td>\n",
       "      <td>1</td>\n",
       "      <td>76.363636</td>\n",
       "      <td>382.738158</td>\n",
       "      <td>76.36</td>\n",
       "      <td>157.0</td>\n",
       "    </tr>\n",
       "    <tr>\n",
       "      <th>21</th>\n",
       "      <td>27.0</td>\n",
       "      <td>2</td>\n",
       "      <td>63.636364</td>\n",
       "      <td>330.717253</td>\n",
       "      <td>63.64</td>\n",
       "      <td>155.0</td>\n",
       "    </tr>\n",
       "    <tr>\n",
       "      <th>22</th>\n",
       "      <td>55.0</td>\n",
       "      <td>2</td>\n",
       "      <td>54.545455</td>\n",
       "      <td>153.403814</td>\n",
       "      <td>55.45</td>\n",
       "      <td>165.0</td>\n",
       "    </tr>\n",
       "    <tr>\n",
       "      <th>23</th>\n",
       "      <td>78.0</td>\n",
       "      <td>1</td>\n",
       "      <td>79.545455</td>\n",
       "      <td>438.143347</td>\n",
       "      <td>78.18</td>\n",
       "      <td>183.0</td>\n",
       "    </tr>\n",
       "    <tr>\n",
       "      <th>24</th>\n",
       "      <td>30.0</td>\n",
       "      <td>2</td>\n",
       "      <td>NaN</td>\n",
       "      <td>661.434505</td>\n",
       "      <td>90.91</td>\n",
       "      <td>160.0</td>\n",
       "    </tr>\n",
       "    <tr>\n",
       "      <th>25</th>\n",
       "      <td>48.0</td>\n",
       "      <td>2</td>\n",
       "      <td>61.818182</td>\n",
       "      <td>271.502466</td>\n",
       "      <td>71.82</td>\n",
       "      <td>157.0</td>\n",
       "    </tr>\n",
       "    <tr>\n",
       "      <th>26</th>\n",
       "      <td>65.0</td>\n",
       "      <td>1</td>\n",
       "      <td>77.272727</td>\n",
       "      <td>382.738158</td>\n",
       "      <td>77.27</td>\n",
       "      <td>173.0</td>\n",
       "    </tr>\n",
       "    <tr>\n",
       "      <th>27</th>\n",
       "      <td>42.0</td>\n",
       "      <td>2</td>\n",
       "      <td>52.272727</td>\n",
       "      <td>422.810541</td>\n",
       "      <td>62.73</td>\n",
       "      <td>157.0</td>\n",
       "    </tr>\n",
       "    <tr>\n",
       "      <th>28</th>\n",
       "      <td>70.0</td>\n",
       "      <td>2</td>\n",
       "      <td>59.090909</td>\n",
       "      <td>126.603027</td>\n",
       "      <td>59.09</td>\n",
       "      <td>157.0</td>\n",
       "    </tr>\n",
       "    <tr>\n",
       "      <th>29</th>\n",
       "      <td>80.0</td>\n",
       "      <td>2</td>\n",
       "      <td>65.909091</td>\n",
       "      <td>185.870345</td>\n",
       "      <td>65.91</td>\n",
       "      <td>165.0</td>\n",
       "    </tr>\n",
       "    <tr>\n",
       "      <th>...</th>\n",
       "      <td>...</td>\n",
       "      <td>...</td>\n",
       "      <td>...</td>\n",
       "      <td>...</td>\n",
       "      <td>...</td>\n",
       "      <td>...</td>\n",
       "    </tr>\n",
       "    <tr>\n",
       "      <th>414479</th>\n",
       "      <td>52.0</td>\n",
       "      <td>2</td>\n",
       "      <td>68.181818</td>\n",
       "      <td>18.649614</td>\n",
       "      <td>70.45</td>\n",
       "      <td>160.0</td>\n",
       "    </tr>\n",
       "    <tr>\n",
       "      <th>414480</th>\n",
       "      <td>62.0</td>\n",
       "      <td>1</td>\n",
       "      <td>89.090909</td>\n",
       "      <td>7.709065</td>\n",
       "      <td>89.09</td>\n",
       "      <td>178.0</td>\n",
       "    </tr>\n",
       "    <tr>\n",
       "      <th>414481</th>\n",
       "      <td>50.0</td>\n",
       "      <td>1</td>\n",
       "      <td>79.545455</td>\n",
       "      <td>13.339183</td>\n",
       "      <td>76.36</td>\n",
       "      <td>178.0</td>\n",
       "    </tr>\n",
       "    <tr>\n",
       "      <th>414482</th>\n",
       "      <td>61.0</td>\n",
       "      <td>2</td>\n",
       "      <td>51.363636</td>\n",
       "      <td>10.347511</td>\n",
       "      <td>51.36</td>\n",
       "      <td>157.0</td>\n",
       "    </tr>\n",
       "    <tr>\n",
       "      <th>414483</th>\n",
       "      <td>65.0</td>\n",
       "      <td>2</td>\n",
       "      <td>77.272727</td>\n",
       "      <td>13.561141</td>\n",
       "      <td>68.18</td>\n",
       "      <td>160.0</td>\n",
       "    </tr>\n",
       "    <tr>\n",
       "      <th>414484</th>\n",
       "      <td>39.0</td>\n",
       "      <td>2</td>\n",
       "      <td>81.818182</td>\n",
       "      <td>15.225492</td>\n",
       "      <td>87.27</td>\n",
       "      <td>170.0</td>\n",
       "    </tr>\n",
       "    <tr>\n",
       "      <th>414485</th>\n",
       "      <td>27.0</td>\n",
       "      <td>2</td>\n",
       "      <td>68.181818</td>\n",
       "      <td>37.495182</td>\n",
       "      <td>77.27</td>\n",
       "      <td>157.0</td>\n",
       "    </tr>\n",
       "    <tr>\n",
       "      <th>414486</th>\n",
       "      <td>NaN</td>\n",
       "      <td>2</td>\n",
       "      <td>61.363636</td>\n",
       "      <td>5.594069</td>\n",
       "      <td>61.36</td>\n",
       "      <td>168.0</td>\n",
       "    </tr>\n",
       "    <tr>\n",
       "      <th>414487</th>\n",
       "      <td>55.0</td>\n",
       "      <td>2</td>\n",
       "      <td>NaN</td>\n",
       "      <td>12.395319</td>\n",
       "      <td>NaN</td>\n",
       "      <td>157.0</td>\n",
       "    </tr>\n",
       "    <tr>\n",
       "      <th>414488</th>\n",
       "      <td>70.0</td>\n",
       "      <td>1</td>\n",
       "      <td>100.000000</td>\n",
       "      <td>14.994430</td>\n",
       "      <td>102.27</td>\n",
       "      <td>175.0</td>\n",
       "    </tr>\n",
       "    <tr>\n",
       "      <th>414489</th>\n",
       "      <td>23.0</td>\n",
       "      <td>2</td>\n",
       "      <td>92.727273</td>\n",
       "      <td>22.632437</td>\n",
       "      <td>86.36</td>\n",
       "      <td>163.0</td>\n",
       "    </tr>\n",
       "    <tr>\n",
       "      <th>414490</th>\n",
       "      <td>54.0</td>\n",
       "      <td>1</td>\n",
       "      <td>71.818182</td>\n",
       "      <td>30.926341</td>\n",
       "      <td>71.82</td>\n",
       "      <td>170.0</td>\n",
       "    </tr>\n",
       "    <tr>\n",
       "      <th>414491</th>\n",
       "      <td>27.0</td>\n",
       "      <td>2</td>\n",
       "      <td>NaN</td>\n",
       "      <td>28.121387</td>\n",
       "      <td>NaN</td>\n",
       "      <td>160.0</td>\n",
       "    </tr>\n",
       "    <tr>\n",
       "      <th>414492</th>\n",
       "      <td>65.0</td>\n",
       "      <td>2</td>\n",
       "      <td>70.454545</td>\n",
       "      <td>6.780570</td>\n",
       "      <td>70.45</td>\n",
       "      <td>157.0</td>\n",
       "    </tr>\n",
       "    <tr>\n",
       "      <th>414493</th>\n",
       "      <td>50.0</td>\n",
       "      <td>2</td>\n",
       "      <td>56.818182</td>\n",
       "      <td>22.376276</td>\n",
       "      <td>56.82</td>\n",
       "      <td>170.0</td>\n",
       "    </tr>\n",
       "    <tr>\n",
       "      <th>414494</th>\n",
       "      <td>49.0</td>\n",
       "      <td>2</td>\n",
       "      <td>90.909091</td>\n",
       "      <td>12.433076</td>\n",
       "      <td>68.18</td>\n",
       "      <td>152.0</td>\n",
       "    </tr>\n",
       "    <tr>\n",
       "      <th>414495</th>\n",
       "      <td>61.0</td>\n",
       "      <td>2</td>\n",
       "      <td>68.181818</td>\n",
       "      <td>12.395319</td>\n",
       "      <td>72.73</td>\n",
       "      <td>165.0</td>\n",
       "    </tr>\n",
       "    <tr>\n",
       "      <th>414496</th>\n",
       "      <td>37.0</td>\n",
       "      <td>2</td>\n",
       "      <td>61.363636</td>\n",
       "      <td>15.225492</td>\n",
       "      <td>56.82</td>\n",
       "      <td>157.0</td>\n",
       "    </tr>\n",
       "    <tr>\n",
       "      <th>414497</th>\n",
       "      <td>66.0</td>\n",
       "      <td>2</td>\n",
       "      <td>70.909091</td>\n",
       "      <td>13.561141</td>\n",
       "      <td>65.91</td>\n",
       "      <td>163.0</td>\n",
       "    </tr>\n",
       "    <tr>\n",
       "      <th>414498</th>\n",
       "      <td>34.0</td>\n",
       "      <td>1</td>\n",
       "      <td>77.272727</td>\n",
       "      <td>46.875400</td>\n",
       "      <td>75.00</td>\n",
       "      <td>173.0</td>\n",
       "    </tr>\n",
       "    <tr>\n",
       "      <th>414499</th>\n",
       "      <td>38.0</td>\n",
       "      <td>2</td>\n",
       "      <td>118.181818</td>\n",
       "      <td>15.225492</td>\n",
       "      <td>129.55</td>\n",
       "      <td>173.0</td>\n",
       "    </tr>\n",
       "    <tr>\n",
       "      <th>414500</th>\n",
       "      <td>43.0</td>\n",
       "      <td>2</td>\n",
       "      <td>66.363636</td>\n",
       "      <td>7.612746</td>\n",
       "      <td>75.00</td>\n",
       "      <td>168.0</td>\n",
       "    </tr>\n",
       "    <tr>\n",
       "      <th>414501</th>\n",
       "      <td>41.0</td>\n",
       "      <td>1</td>\n",
       "      <td>86.363636</td>\n",
       "      <td>25.989792</td>\n",
       "      <td>86.36</td>\n",
       "      <td>175.0</td>\n",
       "    </tr>\n",
       "    <tr>\n",
       "      <th>414502</th>\n",
       "      <td>68.0</td>\n",
       "      <td>2</td>\n",
       "      <td>NaN</td>\n",
       "      <td>13.561141</td>\n",
       "      <td>NaN</td>\n",
       "      <td>165.0</td>\n",
       "    </tr>\n",
       "    <tr>\n",
       "      <th>414503</th>\n",
       "      <td>40.0</td>\n",
       "      <td>1</td>\n",
       "      <td>78.181818</td>\n",
       "      <td>106.771882</td>\n",
       "      <td>78.18</td>\n",
       "      <td>168.0</td>\n",
       "    </tr>\n",
       "    <tr>\n",
       "      <th>414504</th>\n",
       "      <td>23.0</td>\n",
       "      <td>1</td>\n",
       "      <td>84.090909</td>\n",
       "      <td>43.439320</td>\n",
       "      <td>88.64</td>\n",
       "      <td>191.0</td>\n",
       "    </tr>\n",
       "    <tr>\n",
       "      <th>414505</th>\n",
       "      <td>49.0</td>\n",
       "      <td>2</td>\n",
       "      <td>70.454545</td>\n",
       "      <td>6.216538</td>\n",
       "      <td>72.73</td>\n",
       "      <td>170.0</td>\n",
       "    </tr>\n",
       "    <tr>\n",
       "      <th>414506</th>\n",
       "      <td>45.0</td>\n",
       "      <td>1</td>\n",
       "      <td>86.363636</td>\n",
       "      <td>20.617560</td>\n",
       "      <td>90.91</td>\n",
       "      <td>178.0</td>\n",
       "    </tr>\n",
       "    <tr>\n",
       "      <th>414507</th>\n",
       "      <td>52.0</td>\n",
       "      <td>2</td>\n",
       "      <td>89.090909</td>\n",
       "      <td>11.188138</td>\n",
       "      <td>89.09</td>\n",
       "      <td>157.0</td>\n",
       "    </tr>\n",
       "    <tr>\n",
       "      <th>414508</th>\n",
       "      <td>38.0</td>\n",
       "      <td>1</td>\n",
       "      <td>75.000000</td>\n",
       "      <td>25.989792</td>\n",
       "      <td>75.00</td>\n",
       "      <td>178.0</td>\n",
       "    </tr>\n",
       "  </tbody>\n",
       "</table>\n",
       "<p>414509 rows × 6 columns</p>\n",
       "</div>"
      ],
      "text/plain": [
       "         age  sex     wtyrago      finalwt   wtkg2   htm3\n",
       "0       82.0    2   76.363636   185.870345   70.91  157.0\n",
       "1       65.0    2   72.727273   126.603027   72.73  163.0\n",
       "2       48.0    2         NaN   181.063210     NaN  165.0\n",
       "3       61.0    1   73.636364   517.926275   73.64  170.0\n",
       "4       26.0    1   88.636364  1252.624630   88.64  185.0\n",
       "5       42.0    1  118.181818   415.161314  109.09  183.0\n",
       "6       40.0    2   50.000000   422.810541   50.00  157.0\n",
       "7       24.0    2  131.818182  1280.585980  122.73  178.0\n",
       "8       37.0    1   87.727273  1245.060440   90.00  178.0\n",
       "9       65.0    1   77.272727   382.738158   77.27  173.0\n",
       "10      28.0    1   52.272727  3131.561570   63.64  170.0\n",
       "11      68.0    2   86.363636   506.412109   78.18  168.0\n",
       "12      40.0    2   62.727273   422.810541   62.73  175.0\n",
       "13      49.0    1  127.272727   274.170333  127.27  183.0\n",
       "14      24.0    2   95.454545  2561.171960   95.45  175.0\n",
       "15      49.0    2   88.636364   181.063210   88.64  157.0\n",
       "16      36.0    2  113.636364   211.405271   90.91  168.0\n",
       "17      48.0    2         NaN   181.063210   50.00  155.0\n",
       "18      65.0    2  100.000000   253.206055  100.00  160.0\n",
       "19      75.0    2   72.727273   185.870345   72.73  165.0\n",
       "20      67.0    1   76.363636   382.738158   76.36  157.0\n",
       "21      27.0    2   63.636364   330.717253   63.64  155.0\n",
       "22      55.0    2   54.545455   153.403814   55.45  165.0\n",
       "23      78.0    1   79.545455   438.143347   78.18  183.0\n",
       "24      30.0    2         NaN   661.434505   90.91  160.0\n",
       "25      48.0    2   61.818182   271.502466   71.82  157.0\n",
       "26      65.0    1   77.272727   382.738158   77.27  173.0\n",
       "27      42.0    2   52.272727   422.810541   62.73  157.0\n",
       "28      70.0    2   59.090909   126.603027   59.09  157.0\n",
       "29      80.0    2   65.909091   185.870345   65.91  165.0\n",
       "...      ...  ...         ...          ...     ...    ...\n",
       "414479  52.0    2   68.181818    18.649614   70.45  160.0\n",
       "414480  62.0    1   89.090909     7.709065   89.09  178.0\n",
       "414481  50.0    1   79.545455    13.339183   76.36  178.0\n",
       "414482  61.0    2   51.363636    10.347511   51.36  157.0\n",
       "414483  65.0    2   77.272727    13.561141   68.18  160.0\n",
       "414484  39.0    2   81.818182    15.225492   87.27  170.0\n",
       "414485  27.0    2   68.181818    37.495182   77.27  157.0\n",
       "414486   NaN    2   61.363636     5.594069   61.36  168.0\n",
       "414487  55.0    2         NaN    12.395319     NaN  157.0\n",
       "414488  70.0    1  100.000000    14.994430  102.27  175.0\n",
       "414489  23.0    2   92.727273    22.632437   86.36  163.0\n",
       "414490  54.0    1   71.818182    30.926341   71.82  170.0\n",
       "414491  27.0    2         NaN    28.121387     NaN  160.0\n",
       "414492  65.0    2   70.454545     6.780570   70.45  157.0\n",
       "414493  50.0    2   56.818182    22.376276   56.82  170.0\n",
       "414494  49.0    2   90.909091    12.433076   68.18  152.0\n",
       "414495  61.0    2   68.181818    12.395319   72.73  165.0\n",
       "414496  37.0    2   61.363636    15.225492   56.82  157.0\n",
       "414497  66.0    2   70.909091    13.561141   65.91  163.0\n",
       "414498  34.0    1   77.272727    46.875400   75.00  173.0\n",
       "414499  38.0    2  118.181818    15.225492  129.55  173.0\n",
       "414500  43.0    2   66.363636     7.612746   75.00  168.0\n",
       "414501  41.0    1   86.363636    25.989792   86.36  175.0\n",
       "414502  68.0    2         NaN    13.561141     NaN  165.0\n",
       "414503  40.0    1   78.181818   106.771882   78.18  168.0\n",
       "414504  23.0    1   84.090909    43.439320   88.64  191.0\n",
       "414505  49.0    2   70.454545     6.216538   72.73  170.0\n",
       "414506  45.0    1   86.363636    20.617560   90.91  178.0\n",
       "414507  52.0    2   89.090909    11.188138   89.09  157.0\n",
       "414508  38.0    1   75.000000    25.989792   75.00  178.0\n",
       "\n",
       "[414509 rows x 6 columns]"
      ]
     },
     "execution_count": 3,
     "metadata": {},
     "output_type": "execute_result"
    }
   ],
   "source": [
    "df"
   ]
  },
  {
   "cell_type": "markdown",
   "metadata": {},
   "source": [
    "Here are the mean and standard deviation of female height in cm."
   ]
  },
  {
   "cell_type": "code",
   "execution_count": 4,
   "metadata": {
    "collapsed": false
   },
   "outputs": [
    {
     "data": {
      "text/plain": [
       "(163.22347500412215, 7.269156286641344)"
      ]
     },
     "execution_count": 4,
     "metadata": {},
     "output_type": "execute_result"
    }
   ],
   "source": [
    "female = df[df.sex==2]\n",
    "female_heights = female.htm3.dropna()\n",
    "mean, std = female_heights.mean(), female_heights.std()\n",
    "mean, std"
   ]
  },
  {
   "cell_type": "markdown",
   "metadata": {},
   "source": [
    "`NormalPdf` returns a Pdf object that represents the normal distribution with the given parameters.\n",
    "\n",
    "`Density` returns a probability density, which doesn't mean much by itself."
   ]
  },
  {
   "cell_type": "code",
   "execution_count": 5,
   "metadata": {
    "collapsed": false
   },
   "outputs": [
    {
     "data": {
      "text/plain": [
       "0.033287319047441248"
      ]
     },
     "execution_count": 5,
     "metadata": {},
     "output_type": "execute_result"
    }
   ],
   "source": [
    "pdf = thinkstats2.NormalPdf(mean, std)\n",
    "pdf.Density(mean + std)\n",
    "#Density, which takes a value, x, and returns the density of the distribution at x."
   ]
  },
  {
   "cell_type": "markdown",
   "metadata": {},
   "source": [
    "`thinkplot` provides `Pdf`, which plots the probability density with a smooth curve."
   ]
  },
  {
   "cell_type": "code",
   "execution_count": 6,
   "metadata": {
    "collapsed": false
   },
   "outputs": [
    {
     "data": {
      "image/png": "[encoded data removed]",
      "text/plain": [
       "<matplotlib.figure.Figure at 0x4810240>"
      ]
     },
     "metadata": {},
     "output_type": "display_data"
    }
   ],
   "source": [
    "thinkplot.Pdf(pdf, label='normal')\n",
    "thinkplot.Config(xlabel='x', ylabel='PDF', xlim=[140, 186])"
   ]
  },
  {
   "cell_type": "markdown",
   "metadata": {},
   "source": [
    "`Pdf` provides `MakePmf`, which returns a `Pmf` object that approximates the `Pdf`. "
   ]
  },
  {
   "cell_type": "code",
   "execution_count": 7,
   "metadata": {
    "collapsed": false
   },
   "outputs": [
    {
     "data": {
      "image/png": "[encoded data removed]",
      "text/plain": [
       "<matplotlib.figure.Figure at 0xa14cd68>"
      ]
     },
     "metadata": {},
     "output_type": "display_data"
    }
   ],
   "source": [
    "#MakePmf, which evaluates Density at a discrete set of values and returns a normalized Pmf that approximates the Pdf.\n",
    "pmf = pdf.MakePmf()\n",
    "thinkplot.Pmf(pmf, label='normal')\n",
    "thinkplot.Config(xlabel='x', ylabel='PDF', xlim=[140, 186])"
   ]
  },
  {
   "cell_type": "markdown",
   "metadata": {},
   "source": [
    "If you have a `Pmf`, you can also plot it using `Pdf`, if you have reason to think it should be represented as a smooth curve."
   ]
  },
  {
   "cell_type": "code",
   "execution_count": 8,
   "metadata": {
    "collapsed": false
   },
   "outputs": [
    {
     "data": {
      "image/png": "[encoded data removed]",
      "text/plain": [
       "<matplotlib.figure.Figure at 0xcd36e80>"
      ]
     },
     "metadata": {},
     "output_type": "display_data"
    }
   ],
   "source": [
    "thinkplot.Pdf(pmf, label='normal')\n",
    "thinkplot.Config(xlabel='x', ylabel='PDF', xlim=[140, 186])"
   ]
  },
  {
   "cell_type": "markdown",
   "metadata": {},
   "source": [
    "Using a sample from the actual distribution, we can estimate the PDF using Kernel Density Estimation (KDE).\n",
    "\n",
    "If you run this a few times, you'll see how much variation there is in the estimate."
   ]
  },
  {
   "cell_type": "code",
   "execution_count": 9,
   "metadata": {
    "collapsed": false
   },
   "outputs": [
    {
     "data": {
      "image/png": "[encoded data removed]",
      "text/plain": [
       "<matplotlib.figure.Figure at 0xcb41b00>"
      ]
     },
     "metadata": {},
     "output_type": "display_data"
    }
   ],
   "source": [
    "thinkplot.Pdf(pdf, label='normal')\n",
    "\n",
    "sample = np.random.normal(mean, std, 500)\n",
    "sample_pdf = thinkstats2.EstimatedPdf(sample, label='sample')\n",
    "thinkplot.Pdf(sample_pdf, label='sample KDE')\n",
    "thinkplot.Config(xlabel='x', ylabel='PDF', xlim=[140, 186])"
   ]
  },
  {
   "cell_type": "markdown",
   "metadata": {},
   "source": [
    "## Moments\n",
    "\n",
    "Raw moments are just sums of powers."
   ]
  },
  {
   "cell_type": "code",
   "execution_count": 10,
   "metadata": {
    "collapsed": false
   },
   "outputs": [],
   "source": [
    "def RawMoment(xs, k):\n",
    "    return sum(x**k for x in xs) / len(xs)\n",
    "\n"
   ]
  },
  {
   "cell_type": "markdown",
   "metadata": {},
   "source": [
    "The first raw moment is the mean.  The other raw moments don't mean much."
   ]
  },
  {
   "cell_type": "code",
   "execution_count": 11,
   "metadata": {
    "collapsed": false
   },
   "outputs": [
    {
     "data": {
      "text/plain": [
       "(163.22347500412215, 26694.743218096592, 4374411.4625042202)"
      ]
     },
     "execution_count": 11,
     "metadata": {},
     "output_type": "execute_result"
    }
   ],
   "source": [
    "RawMoment(female_heights, 1), RawMoment(female_heights, 2), RawMoment(female_heights, 3)"
   ]
  },
  {
   "cell_type": "code",
   "execution_count": 12,
   "metadata": {
    "collapsed": false
   },
   "outputs": [
    {
     "data": {
      "text/plain": [
       "163.22347500412215"
      ]
     },
     "execution_count": 12,
     "metadata": {},
     "output_type": "execute_result"
    }
   ],
   "source": [
    "def Mean(xs):\n",
    "    return RawMoment(xs, 1)\n",
    "\n",
    "Mean(female_heights)"
   ]
  },
  {
   "cell_type": "markdown",
   "metadata": {},
   "source": [
    "The central moments are powers of distances from the mean."
   ]
  },
  {
   "cell_type": "code",
   "execution_count": 13,
   "metadata": {
    "collapsed": true
   },
   "outputs": [],
   "source": [
    "def CentralMoment(xs, k):\n",
    "    mean = RawMoment(xs, 1)\n",
    "    return sum((x - mean)**k for x in xs) / len(xs)"
   ]
  },
  {
   "cell_type": "markdown",
   "metadata": {},
   "source": [
    "The first central moment is approximately 0.  The second central moment is the variance."
   ]
  },
  {
   "cell_type": "code",
   "execution_count": 14,
   "metadata": {
    "collapsed": false
   },
   "outputs": [
    {
     "data": {
      "text/plain": [
       "(-9.9035579401221681e-14, 52.840425675293282, -46.885695068870731)"
      ]
     },
     "execution_count": 14,
     "metadata": {},
     "output_type": "execute_result"
    }
   ],
   "source": [
    "CentralMoment(female_heights, 1), CentralMoment(female_heights, 2), CentralMoment(female_heights, 3)"
   ]
  },
  {
   "cell_type": "code",
   "execution_count": 15,
   "metadata": {
    "collapsed": false
   },
   "outputs": [
    {
     "data": {
      "text/plain": [
       "52.840425675293282"
      ]
     },
     "execution_count": 15,
     "metadata": {},
     "output_type": "execute_result"
    }
   ],
   "source": [
    "def Var(xs):\n",
    "    return CentralMoment(xs, 2)\n",
    "\n",
    "Var(female_heights)"
   ]
  },
  {
   "cell_type": "markdown",
   "metadata": {},
   "source": [
    "The standardized moments are ratios of central moments, with powers chosen to make the dimensions cancel."
   ]
  },
  {
   "cell_type": "code",
   "execution_count": 16,
   "metadata": {
    "collapsed": true
   },
   "outputs": [],
   "source": [
    "def StandardizedMoment(xs, k):\n",
    "    var = CentralMoment(xs, 2)\n",
    "    std = np.sqrt(var)\n",
    "    return CentralMoment(xs, k) / std**k"
   ]
  },
  {
   "cell_type": "markdown",
   "metadata": {},
   "source": [
    "The third standardized moment is skewness."
   ]
  },
  {
   "cell_type": "code",
   "execution_count": 17,
   "metadata": {
    "collapsed": false
   },
   "outputs": [
    {
     "data": {
      "text/plain": [
       "(-1.3624108479155668e-14, 1.0, -0.1220649274510512)"
      ]
     },
     "execution_count": 17,
     "metadata": {},
     "output_type": "execute_result"
    }
   ],
   "source": [
    "StandardizedMoment(female_heights, 1), StandardizedMoment(female_heights, 2), StandardizedMoment(female_heights, 3)"
   ]
  },
  {
   "cell_type": "code",
   "execution_count": 18,
   "metadata": {
    "collapsed": false
   },
   "outputs": [
    {
     "data": {
      "text/plain": [
       "-0.1220649274510512"
      ]
     },
     "execution_count": 18,
     "metadata": {},
     "output_type": "execute_result"
    }
   ],
   "source": [
    "def Skewness(xs):\n",
    "    return StandardizedMoment(xs, 3)\n",
    "\n",
    "Skewness(female_heights)"
   ]
  },
  {
   "cell_type": "markdown",
   "metadata": {},
   "source": [
    "Normally a negative skewness indicates that the distribution has a longer tail on the left.  In that case, the mean is usually less than the median."
   ]
  },
  {
   "cell_type": "code",
   "execution_count": 19,
   "metadata": {
    "collapsed": true
   },
   "outputs": [],
   "source": [
    "def Median(xs):\n",
    "    cdf = thinkstats2.Cdf(xs)\n",
    "    return cdf.Value(0.5)"
   ]
  },
  {
   "cell_type": "markdown",
   "metadata": {},
   "source": [
    "But in this case the mean is greater than the median, which indicates skew to the right."
   ]
  },
  {
   "cell_type": "code",
   "execution_count": 20,
   "metadata": {
    "collapsed": false
   },
   "outputs": [
    {
     "data": {
      "text/plain": [
       "(163.22347500412215, 163.0)"
      ]
     },
     "execution_count": 20,
     "metadata": {},
     "output_type": "execute_result"
    }
   ],
   "source": [
    "Mean(female_heights), Median(female_heights)"
   ]
  },
  {
   "cell_type": "markdown",
   "metadata": {},
   "source": [
    "Because the skewness is based on the third moment, it is not robust; that is, it depends strongly on a few outliers.  Pearson's median skewness is more robust."
   ]
  },
  {
   "cell_type": "code",
   "execution_count": 21,
   "metadata": {
    "collapsed": true
   },
   "outputs": [],
   "source": [
    "def PearsonMedianSkewness(xs):\n",
    "    median = Median(xs)\n",
    "    mean = RawMoment(xs, 1)\n",
    "    var = CentralMoment(xs, 2)\n",
    "    std = np.sqrt(var)\n",
    "    gp = 3 * (mean - median) / std\n",
    "    return gp"
   ]
  },
  {
   "cell_type": "markdown",
   "metadata": {},
   "source": [
    "Pearson's skewness is positive, indicating that the distribution of female heights is slightly skewed to the right."
   ]
  },
  {
   "cell_type": "code",
   "execution_count": 22,
   "metadata": {
    "collapsed": false
   },
   "outputs": [
    {
     "data": {
      "text/plain": [
       "0.092228905519051593"
      ]
     },
     "execution_count": 22,
     "metadata": {},
     "output_type": "execute_result"
    }
   ],
   "source": [
    "PearsonMedianSkewness(female_heights)"
   ]
  },
  {
   "cell_type": "markdown",
   "metadata": {},
   "source": [
    "## Birth weights\n",
    "\n",
    "Let's look at the distribution of birth weights again."
   ]
  },
  {
   "cell_type": "code",
   "execution_count": 23,
   "metadata": {
    "collapsed": false
   },
   "outputs": [],
   "source": [
    "import first\n",
    "\n",
    "live, firsts, others = first.MakeFrames()"
   ]
  },
  {
   "cell_type": "markdown",
   "metadata": {},
   "source": [
    "Based on KDE, it looks like the distribution is skewed to the left."
   ]
  },
  {
   "cell_type": "code",
   "execution_count": 24,
   "metadata": {
    "collapsed": false
   },
   "outputs": [
    {
     "data": {
      "image/png": "[encoded data removed]",
      "text/plain": [
       "<matplotlib.figure.Figure at 0xa14c940>"
      ]
     },
     "metadata": {},
     "output_type": "display_data"
    }
   ],
   "source": [
    "birth_weights = live.totalwgt_lb.dropna()\n",
    "pdf = thinkstats2.EstimatedPdf(birth_weights)\n",
    "thinkplot.Pdf(pdf, label='birth weight')\n",
    "thinkplot.Config(xlabel='Birth weight (pounds)', ylabel='PDF')"
   ]
  },
  {
   "cell_type": "markdown",
   "metadata": {},
   "source": [
    "The mean is less than the median, which is consistent with left skew."
   ]
  },
  {
   "cell_type": "code",
   "execution_count": 25,
   "metadata": {
    "collapsed": false
   },
   "outputs": [
    {
     "data": {
      "text/plain": [
       "(7.2656284576233681, 7.375)"
      ]
     },
     "execution_count": 25,
     "metadata": {},
     "output_type": "execute_result"
    }
   ],
   "source": [
    "Mean(birth_weights), Median(birth_weights)"
   ]
  },
  {
   "cell_type": "markdown",
   "metadata": {},
   "source": [
    "And both ways of computing skew are negative, which is consistent with left skew."
   ]
  },
  {
   "cell_type": "code",
   "execution_count": 26,
   "metadata": {
    "collapsed": false
   },
   "outputs": [
    {
     "data": {
      "text/plain": [
       "(-0.58950626875779888, -0.23300028954731833)"
      ]
     },
     "execution_count": 26,
     "metadata": {},
     "output_type": "execute_result"
    }
   ],
   "source": [
    "Skewness(birth_weights), PearsonMedianSkewness(birth_weights)"
   ]
  },
  {
   "cell_type": "markdown",
   "metadata": {},
   "source": [
    "## Adult weights\n",
    "\n",
    "Now let's look at adult weights from the BRFSS.  The distribution looks skewed to the right."
   ]
  },
  {
   "cell_type": "code",
   "execution_count": 27,
   "metadata": {
    "collapsed": false
   },
   "outputs": [
    {
     "data": {
      "image/png": "[encoded data removed]",
      "text/plain": [
       "<matplotlib.figure.Figure at 0xe01a400>"
      ]
     },
     "metadata": {},
     "output_type": "display_data"
    }
   ],
   "source": [
    "adult_weights = df.wtkg2.dropna()\n",
    "pdf = thinkstats2.EstimatedPdf(adult_weights)\n",
    "thinkplot.Pdf(pdf, label='Adult weight')\n",
    "thinkplot.Config(xlabel='Adult weight (kg)', ylabel='PDF')"
   ]
  },
  {
   "cell_type": "markdown",
   "metadata": {},
   "source": [
    "The mean is greater than the median, which is consistent with skew to the right."
   ]
  },
  {
   "cell_type": "code",
   "execution_count": 28,
   "metadata": {
    "collapsed": false
   },
   "outputs": [
    {
     "data": {
      "text/plain": [
       "(78.992452996871975, 77.269999999999996)"
      ]
     },
     "execution_count": 28,
     "metadata": {},
     "output_type": "execute_result"
    }
   ],
   "source": [
    "Mean(adult_weights), Median(adult_weights)"
   ]
  },
  {
   "cell_type": "markdown",
   "metadata": {},
   "source": [
    "And both ways of computing skewness are positive."
   ]
  },
  {
   "cell_type": "code",
   "execution_count": 29,
   "metadata": {
    "collapsed": false
   },
   "outputs": [
    {
     "data": {
      "text/plain": [
       "(1.054840012109306, 0.26436733816180391)"
      ]
     },
     "execution_count": 29,
     "metadata": {},
     "output_type": "execute_result"
    }
   ],
   "source": [
    "Skewness(adult_weights), PearsonMedianSkewness(adult_weights)"
   ]
  },
  {
   "cell_type": "markdown",
   "metadata": {},
   "source": [
    "### Quiz Questions & Answers"
   ]
  },
  {
   "cell_type": "markdown",
   "metadata": {
    "collapsed": true
   },
   "source": [
    "- Q4 \n",
    "- scores = [55,66,77,88,99,43,33,87,90] \n",
    "- Write a function that calculate percentile ranks using score list and returns these ranks as a list"
   ]
  },
  {
   "cell_type": "code",
   "execution_count": 30,
   "metadata": {
    "collapsed": false
   },
   "outputs": [
    {
     "data": {
      "text/plain": [
       "[[55, 33.333333333333336],\n",
       " [66, 44.44444444444444],\n",
       " [77, 55.55555555555556],\n",
       " [88, 77.77777777777777],\n",
       " [99, 100.0],\n",
       " [43, 22.22222222222222],\n",
       " [33, 11.11111111111111],\n",
       " [87, 66.66666666666667],\n",
       " [90, 88.88888888888889]]"
      ]
     },
     "execution_count": 30,
     "metadata": {},
     "output_type": "execute_result"
    }
   ],
   "source": [
    "#1. Way\n",
    "scores = [55,66,77,88,99,43,33,87,90]\n",
    "def PercentileRank(scores, one_score):\n",
    "    count = 0\n",
    "    for score in scores:\n",
    "        if score <= one_score :\n",
    "            count += 1\n",
    "    percentile_rank = 100.0 * count / len(scores)\n",
    "    return percentile_rank\n",
    "\n",
    "rankList = []\n",
    "for scr in scores:\n",
    "    rankList.append([scr,PercentileRank(scores, scr)])\n",
    "    ##rankList.append(PercentileRank(scores, scr))\n",
    "rankList\n"
   ]
  },
  {
   "cell_type": "code",
   "execution_count": 31,
   "metadata": {
    "collapsed": false
   },
   "outputs": [
    {
     "data": {
      "text/plain": [
       "[[55, 33.333333333333336],\n",
       " [66, 44.44444444444444],\n",
       " [77, 55.55555555555556],\n",
       " [88, 77.77777777777777],\n",
       " [99, 100.0],\n",
       " [43, 22.22222222222222],\n",
       " [33, 11.11111111111111],\n",
       " [87, 66.66666666666667],\n",
       " [90, 88.88888888888889]]"
      ]
     },
     "execution_count": 31,
     "metadata": {},
     "output_type": "execute_result"
    }
   ],
   "source": [
    "#2. Way\n",
    "def PercentileRank(scores):\n",
    "    rankList1 = []\n",
    "    for ConstantScore in scores:\n",
    "        count = 0\n",
    "        for score in scores:\n",
    "            if score <= ConstantScore:\n",
    "                count += 1\n",
    "        percentile_rank = 100.0 * count / len(scores)\n",
    "        rankList1.append([ConstantScore, percentile_rank])\n",
    "    \n",
    "    return rankList1\n",
    "\n",
    "PercentileRank(scores)\n"
   ]
  },
  {
   "cell_type": "markdown",
   "metadata": {},
   "source": [
    "- Q5 \n",
    "- scores = [55,66,77,88,99,43,33,87,90]\n",
    "- Write a function that calculate CDF values using score list and returns these CDF values as a list"
   ]
  },
  {
   "cell_type": "code",
   "execution_count": 32,
   "metadata": {
    "collapsed": false
   },
   "outputs": [
    {
     "data": {
      "text/plain": [
       "[[55, 0.3333333333333333],\n",
       " [66, 0.4444444444444444],\n",
       " [77, 0.5555555555555556],\n",
       " [88, 0.7777777777777778],\n",
       " [99, 1.0],\n",
       " [43, 0.2222222222222222],\n",
       " [33, 0.1111111111111111],\n",
       " [87, 0.6666666666666666],\n",
       " [90, 0.8888888888888888]]"
      ]
     },
     "execution_count": 32,
     "metadata": {},
     "output_type": "execute_result"
    }
   ],
   "source": [
    "#1. Way\n",
    "def CalculateCdf(scores, one_score):\n",
    "    count = 0\n",
    "    for score in scores:\n",
    "        if score <= one_score :\n",
    "            count += 1\n",
    "    prob = count / len(scores)\n",
    "    return prob\n",
    "\n",
    "cdfList = []\n",
    "for scr in scores:\n",
    "    cdfList.append([scr, CalculateCdf(scores, scr)])\n",
    "cdfList\n"
   ]
  },
  {
   "cell_type": "code",
   "execution_count": 33,
   "metadata": {
    "collapsed": false
   },
   "outputs": [
    {
     "data": {
      "text/plain": [
       "[[55, 0.3333333333333333],\n",
       " [66, 0.4444444444444444],\n",
       " [77, 0.5555555555555556],\n",
       " [88, 0.7777777777777778],\n",
       " [99, 1.0],\n",
       " [43, 0.2222222222222222],\n",
       " [33, 0.1111111111111111],\n",
       " [87, 0.6666666666666666],\n",
       " [90, 0.8888888888888888]]"
      ]
     },
     "execution_count": 33,
     "metadata": {},
     "output_type": "execute_result"
    }
   ],
   "source": [
    "#2. Way\n",
    "def CalculateCdf(scores):\n",
    "    cdfList1 = []\n",
    "    for one_score in scores:\n",
    "        count = 0\n",
    "        for score in scores:\n",
    "            if score <= one_score :\n",
    "                count += 1\n",
    "        prob = count / len(scores)\n",
    "        cdfList1.append([one_score, prob])\n",
    "    \n",
    "    return cdfList1\n",
    "\n",
    "CalculateCdf(scores)\n"
   ]
  },
  {
   "cell_type": "code",
   "execution_count": 34,
   "metadata": {
    "collapsed": false
   },
   "outputs": [
    {
     "data": {
      "text/plain": [
       "Cdf([33 43 55 66 77 87 88 90 99], [ 0.11111111  0.22222222  0.33333333  0.44444444  0.55555556  0.66666667\n",
       "  0.77777778  0.88888889  1.        ])"
      ]
     },
     "execution_count": 34,
     "metadata": {},
     "output_type": "execute_result"
    }
   ],
   "source": [
    "#3. Way\n",
    "cdf = thinkstats2.Cdf(scores)\n",
    "cdf"
   ]
  },
  {
   "cell_type": "code",
   "execution_count": null,
   "metadata": {
    "collapsed": true
   },
   "outputs": [],
   "source": []
  }
 ],
 "metadata": {
  "kernelspec": {
   "display_name": "Python 2",
   "language": "python",
   "name": "python2"
  },
  "language_info": {
   "codemirror_mode": {
    "name": "ipython",
    "version": 2
   },
   "file_extension": ".py",
   "mimetype": "text/x-python",
   "name": "python",
   "nbconvert_exporter": "python",
   "pygments_lexer": "ipython2",
   "version": "2.7.13"
  }
 },
 "nbformat": 4,
 "nbformat_minor": 0
}
